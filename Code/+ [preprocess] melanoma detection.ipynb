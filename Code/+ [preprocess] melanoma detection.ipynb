{
 "cells": [
  {
   "cell_type": "markdown",
   "metadata": {},
   "source": [
    "### Code untuk di Jupyter notebook"
   ]
  },
  {
   "cell_type": "code",
   "execution_count": 3,
   "metadata": {},
   "outputs": [
    {
     "name": "stdout",
     "output_type": "stream",
     "text": [
      "C:\\Users\\Fadhlan\\Pembelajaran Mesin\\Dataset\\preprocess-2\n"
     ]
    }
   ],
   "source": [
    "%cd C:\\Users\\Fadhlan\\Pembelajaran Mesin\\Dataset\\preprocess-2"
   ]
  },
  {
   "cell_type": "code",
   "execution_count": 4,
   "metadata": {},
   "outputs": [
    {
     "name": "stdout",
     "output_type": "stream",
     "text": [
      " Volume in drive C is Windows\n",
      " Volume Serial Number is 5232-3FDD\n",
      "\n",
      " Directory of C:\\Users\\Fadhlan\\Pembelajaran Mesin\\Dataset\\preprocess-2\n",
      "\n",
      "09/11/2021  07:57    <DIR>          .\n",
      "09/11/2021  07:57    <DIR>          ..\n",
      "09/11/2021  07:57    <DIR>          testing\n",
      "09/11/2021  07:57    <DIR>          training\n",
      "09/11/2021  07:57    <DIR>          validation\n",
      "               0 File(s)              0 bytes\n",
      "               5 Dir(s)  31.314.989.056 bytes free\n"
     ]
    }
   ],
   "source": [
    "%ls"
   ]
  },
  {
   "cell_type": "code",
   "execution_count": 5,
   "metadata": {
    "colab": {
     "base_uri": "https://localhost:8080/"
    },
    "id": "TEcBa0Gz1MmB",
    "outputId": "f15277d6-a608-4d27-e80f-9d90dbbc6f22"
   },
   "outputs": [
    {
     "name": "stdout",
     "output_type": "stream",
     "text": [
      "Nama image acral melanoma:  [] , Jumlah data : 0\n",
      "Nama image benign nevi:  [] , Jumlah data : 0\n"
     ]
    }
   ],
   "source": [
    "import os\n",
    "# path di jupyter\n",
    "base_dataset = 'C:/Users/Fadhlan/Pembelajaran Mesin/Dataset/melanoma detection/'\n",
    "base_dataset_acral = 'C:/Users/Fadhlan/Pembelajaran Mesin/Dataset/melanoma detection/acral melanoma/'\n",
    "base_dataset_benign = 'C:/Users/Fadhlan/Pembelajaran Mesin/Dataset/melanoma detection/benign nevi/'\n",
    "\n",
    "print('Nama image acral melanoma: ',os.listdir(base_dataset_acral)[:1], ', Jumlah data :', len(os.listdir(base_dataset_acral)))\n",
    "print('Nama image benign nevi: ',os.listdir(base_dataset_benign)[:1], ', Jumlah data :', len(os.listdir(base_dataset_benign)))"
   ]
  },
  {
   "cell_type": "code",
   "execution_count": 6,
   "metadata": {},
   "outputs": [],
   "source": [
    "# inisialisasi direktori data train dan validasi beserta data per kategori\n",
    "dir1 = [r'C:/Users/Fadhlan/Pembelajaran Mesin/Dataset/melanoma detection/training/acral melanoma/',\n",
    "        r'C:/Users/Fadhlan/Pembelajaran Mesin/Dataset/melanoma detection/validation/acral melanoma/',\n",
    "        r'C:/Users/Fadhlan/Pembelajaran Mesin/Dataset/melanoma detection/testing/acral melanoma/',\n",
    "        r'C:/Users/Fadhlan/Pembelajaran Mesin/Dataset/melanoma detection/training/benign nevi/',\n",
    "        r'C:/Users/Fadhlan/Pembelajaran Mesin/Dataset/melanoma detection/validation/benign nevi/',\n",
    "       r'C:/Users/Fadhlan/Pembelajaran Mesin/Dataset/melanoma detection/testing/benign nevi/']\n",
    "\n",
    "# membuat folder baru dengan pengecekan eror jika direktori sudah dibuat\n",
    "for i in range(len(dir1)):\n",
    "    if not os.path.exists(dir1[i]):\n",
    "        os.makedirs(dir1[i])\n",
    "\n",
    "# inisialisasi direktori data train, validasi, dan test ke dalam variabel\n",
    "train_dir = 'C:/Users/Fadhlan/Pembelajaran Mesin/Dataset/melanoma detection/training/'\n",
    "val_dir = 'C:/Users/Fadhlan/Pembelajaran Mesin/Dataset/melanoma detection/validation/'\n",
    "test_dir = 'C:/Users/Fadhlan/Pembelajaran Mesin/Dataset/melanoma detection/testing/'"
   ]
  },
  {
   "cell_type": "code",
   "execution_count": 19,
   "metadata": {},
   "outputs": [
    {
     "data": {
      "application/vnd.jupyter.widget-view+json": {
       "model_id": "2d86e8e5805949c3b369ea2c8fd9c3d2",
       "version_major": 2,
       "version_minor": 0
      },
      "text/plain": [
       "  0%|          | 0/280 [00:00<?, ?it/s]"
      ]
     },
     "metadata": {},
     "output_type": "display_data"
    },
    {
     "data": {
      "application/vnd.jupyter.widget-view+json": {
       "model_id": "c752c157709a4334821c491022e86320",
       "version_major": 2,
       "version_minor": 0
      },
      "text/plain": [
       "  0%|          | 0/66 [00:00<?, ?it/s]"
      ]
     },
     "metadata": {},
     "output_type": "display_data"
    },
    {
     "data": {
      "application/vnd.jupyter.widget-view+json": {
       "model_id": "41c12dc3b89140ed9a21c5ef9e8064fa",
       "version_major": 2,
       "version_minor": 0
      },
      "text/plain": [
       "  0%|          | 0/4 [00:00<?, ?it/s]"
      ]
     },
     "metadata": {},
     "output_type": "display_data"
    },
    {
     "data": {
      "application/vnd.jupyter.widget-view+json": {
       "model_id": "8e93c141550a4f8dae9d3062099a1562",
       "version_major": 2,
       "version_minor": 0
      },
      "text/plain": [
       "  0%|          | 0/299 [00:00<?, ?it/s]"
      ]
     },
     "metadata": {},
     "output_type": "display_data"
    },
    {
     "data": {
      "application/vnd.jupyter.widget-view+json": {
       "model_id": "4092cc62bbb647338a6c68cc759eb537",
       "version_major": 2,
       "version_minor": 0
      },
      "text/plain": [
       "  0%|          | 0/71 [00:00<?, ?it/s]"
      ]
     },
     "metadata": {},
     "output_type": "display_data"
    },
    {
     "data": {
      "application/vnd.jupyter.widget-view+json": {
       "model_id": "03b64c96a997459698e7b1df8b0b40fb",
       "version_major": 2,
       "version_minor": 0
      },
      "text/plain": [
       "  0%|          | 0/4 [00:00<?, ?it/s]"
      ]
     },
     "metadata": {},
     "output_type": "display_data"
    }
   ],
   "source": [
    "#sekali aja\n",
    "\n",
    "import random\n",
    "from tqdm.notebook import trange\n",
    "from shutil import move\n",
    "\n",
    "# fungsi untuk split data\n",
    "def split_data(source_folder, dest_folder, split_ratio):\n",
    "\n",
    "    if source_folder is not None and dest_folder is not None:\n",
    "        if os.path.exists(source_folder) and os.path.exists(dest_folder):\n",
    "            \n",
    "            file_names = [f_name for f_name in os.listdir(source_folder)]\n",
    "            shuffled_files = random.sample(file_names, len(file_names))\n",
    "\n",
    "            for each_img in trange(round(len(shuffled_files)*split_ratio)):\n",
    "                src_full_file_path = os.path.join(source_folder, shuffled_files[each_img])\n",
    "                dst_full_path = os.path.join(dest_folder, shuffled_files[each_img])      \n",
    "                \n",
    "                move(src_full_file_path, dst_full_path)\n",
    "\n",
    "category = ['acral melanoma', 'benign nevi']\n",
    "\n",
    "for each_labels in category:    \n",
    "    data_src = os.path.join(base_dataset, each_labels)\n",
    "    data_dst_train = os.path.join(train_dir, each_labels)\n",
    "    data_dst_val = os.path.join(val_dir, each_labels)\n",
    "    data_dst_test = os.path.join(test_dir, each_labels)\n",
    "\n",
    "    split_data(data_src, data_dst_train, 0.8)\n",
    "\n",
    "    split_data(data_src, data_dst_val, 0.95)\n",
    "    \n",
    "    split_data(data_src, data_dst_test, 1)"
   ]
  },
  {
   "cell_type": "code",
   "execution_count": 7,
   "metadata": {},
   "outputs": [
    {
     "name": "stdout",
     "output_type": "stream",
     "text": [
      "Total Data Training Image    :  280  Image \n",
      "\n",
      "Total Data Validation Image    :  66  Image \n",
      "\n",
      "Total Data Validation Image    :  4  Image \n",
      "\n",
      "Total Data Training Image    :  299  Image \n",
      "\n",
      "Total Data Validation Image    :  71  Image \n",
      "\n",
      "Total Data Validation Image    :  4  Image \n",
      "\n"
     ]
    }
   ],
   "source": [
    "import glob\n",
    "train_melanoma = len(list(glob.iglob(\"C:/Users/Fadhlan/Pembelajaran Mesin/Dataset/melanoma detection/training/acral melanoma/*.jpg*\", recursive=True)))\n",
    "print(\"Total Data Training Image    : \",train_melanoma,\" Image \\n\")\n",
    "val_melanoma = len(list(glob.iglob(\"C:/Users/Fadhlan/Pembelajaran Mesin/Dataset/melanoma detection/validation/acral melanoma/*.jpg*\", recursive=True)))\n",
    "print(\"Total Data Validation Image    : \",val_melanoma,\" Image \\n\")\n",
    "test_melanoma = len(list(glob.iglob(\"C:/Users/Fadhlan/Pembelajaran Mesin/Dataset/melanoma detection/testing/acral melanoma/*.jpg*\", recursive=True)))\n",
    "print(\"Total Data Validation Image    : \",test_melanoma,\" Image \\n\")\n",
    "\n",
    "train_benign = len(list(glob.iglob(\"C:/Users/Fadhlan/Pembelajaran Mesin/Dataset/melanoma detection/training/benign nevi/*.jpg*\", recursive=True)))\n",
    "print(\"Total Data Training Image    : \",train_benign,\" Image \\n\")\n",
    "val_benign = len(list(glob.iglob(\"C:/Users/Fadhlan/Pembelajaran Mesin/Dataset/melanoma detection/validation/benign nevi/*.jpg*\", recursive=True)))\n",
    "print(\"Total Data Validation Image    : \",val_benign,\" Image \\n\")\n",
    "test_benign = len(list(glob.iglob(\"C:/Users/Fadhlan/Pembelajaran Mesin/Dataset/melanoma detection/testing/benign nevi/*.jpg*\", recursive=True)))\n",
    "print(\"Total Data Validation Image    : \",test_benign,\" Image \\n\")"
   ]
  },
  {
   "cell_type": "code",
   "execution_count": 24,
   "metadata": {},
   "outputs": [],
   "source": [
    "import numpy as np\n",
    "import cv2\n",
    "def estimate_radius(img):\n",
    "    mx = img[img.shape[0] // 2,:,:].sum(1)\n",
    "    rx = (mx > mx.mean() / 20).sum() / 2\n",
    "    my = img[:,img.shape[1] // 2,:].sum(1)\n",
    "    ry = (my > my.mean() / 20).sum() / 2\n",
    "    return (ry, rx)\n",
    "\n",
    "\n",
    "def remove_outer_circle(a, p, r):\n",
    "    b = np.zeros(a.shape, dtype=np.uint8)\n",
    "    cv2.circle(b, (a.shape[1] // 2, a.shape[0] // 2), int(r * p), (1, 1, 1), -1, 8, 0)\n",
    "    return a * b + 255 * (1 - b)\n",
    "\n",
    "def crop_img(img, h, w):\n",
    "        h_margin = (img.shape[0] - h) // 2 if img.shape[0] > h else 0\n",
    "        w_margin = (img.shape[1] - w) // 2 if img.shape[1] > w else 0\n",
    "        crop_img = img[h_margin:h + h_margin,w_margin:w + w_margin,:]\n",
    "        return crop_img\n",
    "\n",
    "def place_in_square(img, r, h, w):\n",
    "    new_img = np.zeros((2 * r, 2 * r, 3), dtype=np.uint8)\n",
    "    new_img += 255\n",
    "    new_img[r - h // 2:r - h // 2 + img.shape[0], r - w // 2:r - w // 2 + img.shape[1]] = img\n",
    "    return new_img\n",
    "\n",
    "scale = 112\n",
    "IMG_SIZE = 224\n",
    "\n",
    "def preprocess_image_training(file):\n",
    "    category = ''\n",
    "    if 'AM' in file:\n",
    "        category = 'acral melanoma'\n",
    "    else:\n",
    "        category = 'benign nevi'\n",
    "    #input_filepath = os.path.join('./melanoma detection/training/{}/','{}.jpg'.format(category, file))\n",
    "    input_filepath = 'C:/Users/Fadhlan/Pembelajaran Mesin/Dataset/melanoma detection/training/{}/{}'.format(category, file)\n",
    "    #output_filepath = os.path.join('./preprocess melanoma/training/{}/','{}.jpg'.format(category, file))\n",
    "    output_filepath = 'C:/Users/Fadhlan/Pembelajaran Mesin/Dataset/preprocess melanoma/training/{}/{}'.format(category, file)\n",
    "    img = cv2.imread(input_filepath)\n",
    "    ry, rx = estimate_radius(img)\n",
    "\n",
    "    resize_scale = scale / max(rx, ry)\n",
    "    w = min(int(rx * resize_scale * 2), scale * 2)\n",
    "    h = min(int(ry * resize_scale * 2), scale * 2)\n",
    "\n",
    "    img = cv2.resize(img, (0,0), fx=resize_scale, fy=resize_scale)\n",
    "\n",
    "    img = crop_img(img, h, w)\n",
    "\n",
    "    img = remove_outer_circle(img, 0.9, scale)\n",
    "    img = place_in_square(img, scale, h, w)\n",
    "    cv2.imwrite(output_filepath, cv2.resize(img, (IMG_SIZE,IMG_SIZE)))\n",
    "\n",
    "def preprocess_image_validation(file):\n",
    "    category = ''\n",
    "    if 'AM' in file:\n",
    "        category = 'acral melanoma'\n",
    "    else:\n",
    "        category = 'benign nevi'\n",
    "    #input_filepath = os.path.join('./melanoma detection/validation/{}/','{}.jpg'.format(category, file))\n",
    "    input_filepath = 'C:/Users/Fadhlan/Pembelajaran Mesin/Dataset/melanoma detection/validation/{}/{}'.format(category, file)\n",
    "    #output_filepath = os.path.join('./preprocess melanoma/validation/{}/','{}.jpg'.format(category, file))\n",
    "    output_filepath = 'C:/Users/Fadhlan/Pembelajaran Mesin/Dataset/preprocess melanoma/validation/{}/{}'.format(category, file)\n",
    "\n",
    "    img = cv2.imread(input_filepath)\n",
    "    ry, rx = estimate_radius(img)\n",
    "\n",
    "    resize_scale = scale / max(rx, ry)\n",
    "    w = min(int(rx * resize_scale * 2), scale * 2)\n",
    "    h = min(int(ry * resize_scale * 2), scale * 2)\n",
    "\n",
    "    img = cv2.resize(img, (0,0), fx=resize_scale, fy=resize_scale)\n",
    "\n",
    "    img = crop_img(img, h, w)\n",
    "\n",
    "    img = remove_outer_circle(img, 0.9, scale)\n",
    "    img = place_in_square(img, scale, h, w)\n",
    "    cv2.imwrite(output_filepath, cv2.resize(img, (IMG_SIZE,IMG_SIZE)))\n",
    "    \n",
    "def preprocess_image_testing(file):\n",
    "    category = ''\n",
    "    if 'AM' in file:\n",
    "        category = 'acral melanoma'\n",
    "    else:\n",
    "        category = 'benign nevi'\n",
    "    #input_filepath = os.path.join('./melanoma detection/validation/{}/','{}.jpg'.format(category, file))\n",
    "    input_filepath = 'C:/Users/Fadhlan/Pembelajaran Mesin/Dataset/melanoma detection/testing/{}/{}'.format(category, file)\n",
    "    #output_filepath = os.path.join('./preprocess melanoma/validation/{}/','{}.jpg'.format(category, file))\n",
    "    output_filepath = 'C:/Users/Fadhlan/Pembelajaran Mesin/Dataset/preprocess melanoma/testing/{}/{}'.format(category, file)\n",
    "\n",
    "    img = cv2.imread(input_filepath)\n",
    "    ry, rx = estimate_radius(img)\n",
    "\n",
    "    resize_scale = scale / max(rx, ry)\n",
    "    w = min(int(rx * resize_scale * 2), scale * 2)\n",
    "    h = min(int(ry * resize_scale * 2), scale * 2)\n",
    "\n",
    "    img = cv2.resize(img, (0,0), fx=resize_scale, fy=resize_scale)\n",
    "\n",
    "    img = crop_img(img, h, w)\n",
    "\n",
    "    img = remove_outer_circle(img, 0.9, scale)\n",
    "    img = place_in_square(img, scale, h, w)\n",
    "    cv2.imwrite(output_filepath, cv2.resize(img, (IMG_SIZE,IMG_SIZE)))"
   ]
  },
  {
   "cell_type": "code",
   "execution_count": 25,
   "metadata": {},
   "outputs": [],
   "source": [
    "def multiprocess_image_processor1(process:int, imgs:list):\n",
    "    print(f'MESSAGE: Running {process} process')\n",
    "    ThreadPool(process).map(preprocess_image_training, imgs)\n",
    "    print('Process Selesai')\n",
    "\n",
    "def multiprocess_image_processor2(process:int, imgs:list):\n",
    "    print(f'MESSAGE: Running {process} process')\n",
    "    ThreadPool(process).map(preprocess_image_validation, imgs)\n",
    "    print('Process Selesai')\n",
    "    \n",
    "def multiprocess_image_processor3(process:int, imgs:list):\n",
    "    print(f'MESSAGE: Running {process} process')\n",
    "    ThreadPool(process).map(preprocess_image_testing, imgs)\n",
    "    print('Process Selesai')"
   ]
  },
  {
   "cell_type": "code",
   "execution_count": 26,
   "metadata": {},
   "outputs": [
    {
     "name": "stdout",
     "output_type": "stream",
     "text": [
      "12  CPU cores\n"
     ]
    }
   ],
   "source": [
    "import multiprocessing\n",
    "from multiprocessing.pool import ThreadPool\n",
    "print(multiprocessing.cpu_count(),\" CPU cores\")"
   ]
  },
  {
   "cell_type": "code",
   "execution_count": 27,
   "metadata": {},
   "outputs": [],
   "source": [
    "file_names_train_melanoma = [f_name for f_name in os.listdir(dir1[0])]\n",
    "file_names_train_benign = [f_name for f_name in os.listdir(dir1[3])]\n",
    "file_names_val_melanoma = [f_name for f_name in os.listdir(dir1[1])]\n",
    "file_names_val_benign = [f_name for f_name in os.listdir(dir1[4])]\n",
    "file_names_test_melanoma = [f_name for f_name in os.listdir(dir1[2])]\n",
    "file_names_test_benign = [f_name for f_name in os.listdir(dir1[5])]"
   ]
  },
  {
   "cell_type": "code",
   "execution_count": 28,
   "metadata": {},
   "outputs": [
    {
     "data": {
      "text/plain": [
       "4"
      ]
     },
     "execution_count": 28,
     "metadata": {},
     "output_type": "execute_result"
    }
   ],
   "source": [
    "len(file_names_test_melanoma)"
   ]
  },
  {
   "cell_type": "code",
   "execution_count": 29,
   "metadata": {},
   "outputs": [
    {
     "name": "stdout",
     "output_type": "stream",
     "text": [
      "MESSAGE: Running 12 process\n",
      "Process Selesai\n",
      "MESSAGE: Running 12 process\n",
      "Process Selesai\n"
     ]
    }
   ],
   "source": [
    "#train melanoma\n",
    "multiprocess_image_processor1(12, file_names_train_melanoma)\n",
    "#train benign\n",
    "multiprocess_image_processor1(12, file_names_train_benign)"
   ]
  },
  {
   "cell_type": "code",
   "execution_count": 30,
   "metadata": {},
   "outputs": [
    {
     "name": "stdout",
     "output_type": "stream",
     "text": [
      "MESSAGE: Running 12 process\n",
      "Process Selesai\n",
      "MESSAGE: Running 12 process\n",
      "Process Selesai\n"
     ]
    }
   ],
   "source": [
    "#val melanoma\n",
    "multiprocess_image_processor2(12, file_names_val_melanoma)\n",
    "#val benign\n",
    "multiprocess_image_processor2(12, file_names_val_benign)"
   ]
  },
  {
   "cell_type": "code",
   "execution_count": 31,
   "metadata": {},
   "outputs": [
    {
     "name": "stdout",
     "output_type": "stream",
     "text": [
      "MESSAGE: Running 12 process\n",
      "Process Selesai\n",
      "MESSAGE: Running 12 process\n",
      "Process Selesai\n"
     ]
    }
   ],
   "source": [
    "#test melanoma\n",
    "multiprocess_image_processor3(12, file_names_test_melanoma)\n",
    "#test benign\n",
    "multiprocess_image_processor3(12, file_names_test_benign)"
   ]
  },
  {
   "cell_type": "code",
   "execution_count": 33,
   "metadata": {},
   "outputs": [],
   "source": [
    "from tensorflow.keras.preprocessing.image import ImageDataGenerator\n",
    "train_datagen = ImageDataGenerator(\n",
    "                    rescale=1/255,\n",
    "                    rotation_range=15,\n",
    "                    horizontal_flip=True,\n",
    "                    shear_range = 0.2,\n",
    "                    brightness_range = [0.2,0.5],\n",
    "                    zoom_range = 0.2,\n",
    "                    fill_mode = 'nearest')\n",
    "\n",
    "val_datagen = ImageDataGenerator(\n",
    "                    rescale=1/255)\n",
    "\n",
    "test_datagen = ImageDataGenerator(\n",
    "                    rescale=1/255)"
   ]
  },
  {
   "cell_type": "code",
   "execution_count": 34,
   "metadata": {},
   "outputs": [
    {
     "name": "stdout",
     "output_type": "stream",
     "text": [
      "Found 579 images belonging to 2 classes.\n",
      "Found 137 images belonging to 2 classes.\n",
      "Found 8 images belonging to 2 classes.\n"
     ]
    }
   ],
   "source": [
    "batch_size=16\n",
    "train_dataset = train_datagen.flow_from_directory(batch_size=batch_size,\n",
    "                                                 directory='C:/Users/Fadhlan/Pembelajaran Mesin/Dataset/preprocess melanoma/training/',\n",
    "                                                 target_size=(224, 224),\n",
    "                                                 class_mode='binary')\n",
    "\n",
    "validation_dataset = val_datagen.flow_from_directory(batch_size=batch_size,\n",
    "                                                 directory='C:/Users/Fadhlan/Pembelajaran Mesin/Dataset/preprocess melanoma/validation/',\n",
    "                                                 target_size=(224, 224),\n",
    "                                                 class_mode='binary')\n",
    "test_dataset = val_datagen.flow_from_directory(batch_size=batch_size,\n",
    "                                                 directory='C:/Users/Fadhlan/Pembelajaran Mesin/Dataset/preprocess melanoma/testing/',\n",
    "                                                 target_size=(224, 224),\n",
    "                                                 class_mode='binary')"
   ]
  },
  {
   "cell_type": "code",
   "execution_count": 36,
   "metadata": {},
   "outputs": [],
   "source": [
    "from tensorflow.keras.models import Sequential\n",
    "from tensorflow.keras.layers import InputLayer, Dense, Conv2D, MaxPool2D, AveragePooling2D, Flatten, Dropout, BatchNormalization\n",
    "from tensorflow.keras.callbacks import EarlyStopping\n",
    "from tensorflow.keras.optimizers import Adam"
   ]
  },
  {
   "cell_type": "code",
   "execution_count": 37,
   "metadata": {},
   "outputs": [
    {
     "name": "stdout",
     "output_type": "stream",
     "text": [
      "Model: \"sequential\"\n",
      "_________________________________________________________________\n",
      "Layer (type)                 Output Shape              Param #   \n",
      "=================================================================\n",
      "conv2d (Conv2D)              (None, 224, 224, 64)      1792      \n",
      "_________________________________________________________________\n",
      "max_pooling2d (MaxPooling2D) (None, 112, 112, 64)      0         \n",
      "_________________________________________________________________\n",
      "batch_normalization (BatchNo (None, 112, 112, 64)      256       \n",
      "_________________________________________________________________\n",
      "conv2d_1 (Conv2D)            (None, 112, 112, 64)      36928     \n",
      "_________________________________________________________________\n",
      "max_pooling2d_1 (MaxPooling2 (None, 56, 56, 64)        0         \n",
      "_________________________________________________________________\n",
      "batch_normalization_1 (Batch (None, 56, 56, 64)        256       \n",
      "_________________________________________________________________\n",
      "conv2d_2 (Conv2D)            (None, 56, 56, 128)       73856     \n",
      "_________________________________________________________________\n",
      "max_pooling2d_2 (MaxPooling2 (None, 28, 28, 128)       0         \n",
      "_________________________________________________________________\n",
      "batch_normalization_2 (Batch (None, 28, 28, 128)       512       \n",
      "_________________________________________________________________\n",
      "conv2d_3 (Conv2D)            (None, 28, 28, 128)       147584    \n",
      "_________________________________________________________________\n",
      "max_pooling2d_3 (MaxPooling2 (None, 14, 14, 128)       0         \n",
      "_________________________________________________________________\n",
      "batch_normalization_3 (Batch (None, 14, 14, 128)       512       \n",
      "_________________________________________________________________\n",
      "flatten (Flatten)            (None, 25088)             0         \n",
      "_________________________________________________________________\n",
      "dropout (Dropout)            (None, 25088)             0         \n",
      "_________________________________________________________________\n",
      "dense (Dense)                (None, 128)               3211392   \n",
      "_________________________________________________________________\n",
      "dense_1 (Dense)              (None, 1)                 129       \n",
      "=================================================================\n",
      "Total params: 3,473,217\n",
      "Trainable params: 3,472,449\n",
      "Non-trainable params: 768\n",
      "_________________________________________________________________\n"
     ]
    }
   ],
   "source": [
    "model_1 = Sequential()\n",
    "\n",
    "model_1.add(InputLayer(input_shape=[224,224,3]))\n",
    "model_1.add(Conv2D(filters=64, kernel_size=3, strides=1, padding='same', activation='relu'))\n",
    "model_1.add(MaxPool2D(pool_size=2, padding='same'))\n",
    "model_1.add(BatchNormalization())\n",
    "\n",
    "model_1.add(Conv2D(filters=64, kernel_size=3, strides=1, padding='same', activation='relu'))\n",
    "model_1.add(MaxPool2D(pool_size=2, padding='same'))\n",
    "model_1.add(BatchNormalization())\n",
    "\n",
    "model_1.add(Conv2D(filters=128, kernel_size=3, strides=1, padding='same', activation='relu'))\n",
    "model_1.add(MaxPool2D(pool_size=2, padding='same'))\n",
    "model_1.add(BatchNormalization())\n",
    "\n",
    "model_1.add(Conv2D(filters=128, kernel_size=3, strides=1, padding='same', activation='relu'))\n",
    "model_1.add(MaxPool2D(pool_size=2, padding='same'))\n",
    "model_1.add(BatchNormalization())\n",
    "\n",
    "model_1.add(Flatten())\n",
    "model_1.add(Dropout(0.2))\n",
    "model_1.add(Dense(128, activation='relu'))\n",
    "model_1.add(Dense(1, activation='sigmoid'))\n",
    "\n",
    "model_1.summary()"
   ]
  },
  {
   "cell_type": "code",
   "execution_count": 38,
   "metadata": {},
   "outputs": [
    {
     "name": "stdout",
     "output_type": "stream",
     "text": [
      "Epoch 1/100\n",
      "36/36 [==============================] - 13s 195ms/step - loss: 1.3448 - acc: 0.6270 - val_loss: 1.4487 - val_acc: 0.5312\n",
      "Epoch 2/100\n",
      "36/36 [==============================] - 7s 181ms/step - loss: 0.6647 - acc: 0.6732 - val_loss: 1.8352 - val_acc: 0.5234\n",
      "Epoch 3/100\n",
      "36/36 [==============================] - 7s 180ms/step - loss: 0.6656 - acc: 0.6625 - val_loss: 2.7692 - val_acc: 0.5156\n",
      "Epoch 4/100\n",
      "36/36 [==============================] - 7s 182ms/step - loss: 0.5685 - acc: 0.6732 - val_loss: 5.5234 - val_acc: 0.5156\n",
      "Epoch 5/100\n",
      "36/36 [==============================] - 7s 189ms/step - loss: 0.5793 - acc: 0.7123 - val_loss: 5.3046 - val_acc: 0.5078\n",
      "Epoch 6/100\n",
      "36/36 [==============================] - 7s 185ms/step - loss: 0.6148 - acc: 0.6359 - val_loss: 0.7358 - val_acc: 0.5156\n",
      "Epoch 7/100\n",
      "36/36 [==============================] - 7s 181ms/step - loss: 0.4703 - acc: 0.7229 - val_loss: 3.2176 - val_acc: 0.5234\n",
      "Epoch 8/100\n",
      "36/36 [==============================] - 7s 180ms/step - loss: 0.6150 - acc: 0.6341 - val_loss: 1.9258 - val_acc: 0.5078\n",
      "Epoch 9/100\n",
      "36/36 [==============================] - 6s 177ms/step - loss: 0.5358 - acc: 0.7123 - val_loss: 1.2371 - val_acc: 0.5234\n",
      "Epoch 10/100\n",
      "36/36 [==============================] - 7s 182ms/step - loss: 0.4657 - acc: 0.7584 - val_loss: 0.7261 - val_acc: 0.5703\n",
      "Epoch 11/100\n",
      "36/36 [==============================] - 7s 181ms/step - loss: 0.4713 - acc: 0.7780 - val_loss: 0.5266 - val_acc: 0.7578\n",
      "Epoch 12/100\n",
      "36/36 [==============================] - 7s 180ms/step - loss: 0.4563 - acc: 0.7691 - val_loss: 0.8353 - val_acc: 0.5078\n",
      "Epoch 13/100\n",
      "36/36 [==============================] - 7s 180ms/step - loss: 0.4292 - acc: 0.7762 - val_loss: 0.6332 - val_acc: 0.6484\n",
      "Epoch 14/100\n",
      "36/36 [==============================] - 6s 179ms/step - loss: 0.4709 - acc: 0.7620 - val_loss: 0.8432 - val_acc: 0.6484\n",
      "Epoch 15/100\n",
      "36/36 [==============================] - 6s 178ms/step - loss: 0.4485 - acc: 0.7709 - val_loss: 0.6952 - val_acc: 0.5781\n",
      "Epoch 16/100\n",
      "36/36 [==============================] - 7s 180ms/step - loss: 0.4149 - acc: 0.7993 - val_loss: 2.0181 - val_acc: 0.5391\n",
      "Epoch 17/100\n",
      "36/36 [==============================] - 7s 181ms/step - loss: 0.4919 - acc: 0.7549 - val_loss: 9.0298 - val_acc: 0.6562\n",
      "Epoch 18/100\n",
      "36/36 [==============================] - 7s 181ms/step - loss: 0.3805 - acc: 0.8171 - val_loss: 7.4366 - val_acc: 0.6406\n",
      "Epoch 19/100\n",
      "36/36 [==============================] - 7s 181ms/step - loss: 0.3944 - acc: 0.8028 - val_loss: 11.6400 - val_acc: 0.6406\n",
      "Epoch 20/100\n",
      "36/36 [==============================] - 7s 180ms/step - loss: 0.3960 - acc: 0.7975 - val_loss: 0.7614 - val_acc: 0.5625\n",
      "Epoch 21/100\n",
      "36/36 [==============================] - 7s 186ms/step - loss: 0.3825 - acc: 0.8064 - val_loss: 0.9230 - val_acc: 0.6094\n",
      "Epoch 22/100\n",
      "36/36 [==============================] - 7s 182ms/step - loss: 0.4081 - acc: 0.7957 - val_loss: 1.2142 - val_acc: 0.5391\n",
      "Epoch 23/100\n",
      "36/36 [==============================] - 7s 183ms/step - loss: 0.3424 - acc: 0.8437 - val_loss: 0.6295 - val_acc: 0.7422\n",
      "Epoch 24/100\n",
      "36/36 [==============================] - 7s 182ms/step - loss: 0.3423 - acc: 0.8313 - val_loss: 0.3782 - val_acc: 0.8125\n",
      "Epoch 25/100\n",
      "36/36 [==============================] - 7s 182ms/step - loss: 0.3852 - acc: 0.8028 - val_loss: 0.9044 - val_acc: 0.8203\n",
      "Epoch 26/100\n",
      "36/36 [==============================] - 7s 183ms/step - loss: 0.3158 - acc: 0.8526 - val_loss: 9.6091 - val_acc: 0.5938\n",
      "Epoch 27/100\n",
      "36/36 [==============================] - 7s 183ms/step - loss: 0.3821 - acc: 0.8242 - val_loss: 1.3244 - val_acc: 0.6484\n",
      "Epoch 28/100\n",
      "36/36 [==============================] - 7s 189ms/step - loss: 0.3728 - acc: 0.8206 - val_loss: 7.8581 - val_acc: 0.5703\n",
      "Epoch 29/100\n",
      "36/36 [==============================] - 7s 182ms/step - loss: 0.4064 - acc: 0.7940 - val_loss: 4.3034 - val_acc: 0.5781\n",
      "Epoch 30/100\n",
      "36/36 [==============================] - 7s 181ms/step - loss: 0.3907 - acc: 0.8224 - val_loss: 1.5092 - val_acc: 0.4922\n",
      "Epoch 31/100\n",
      "36/36 [==============================] - 7s 188ms/step - loss: 0.3364 - acc: 0.8401 - val_loss: 0.7768 - val_acc: 0.6875\n",
      "Epoch 32/100\n",
      "36/36 [==============================] - 7s 182ms/step - loss: 0.3296 - acc: 0.8526 - val_loss: 0.6525 - val_acc: 0.7891s - loss: 0.324\n",
      "Epoch 33/100\n",
      "36/36 [==============================] - 7s 183ms/step - loss: 0.3196 - acc: 0.8455 - val_loss: 0.5936 - val_acc: 0.7656\n",
      "Epoch 34/100\n",
      "36/36 [==============================] - 7s 191ms/step - loss: 0.3187 - acc: 0.8490 - val_loss: 0.5925 - val_acc: 0.7266\n",
      "Epoch 35/100\n",
      "36/36 [==============================] - 7s 195ms/step - loss: 0.2894 - acc: 0.8579 - val_loss: 0.5911 - val_acc: 0.58593121 - acc: 0.8 - ETA: 2s - loss: 0.2993 - \n",
      "Epoch 36/100\n",
      "36/36 [==============================] - 7s 189ms/step - loss: 0.3137 - acc: 0.8615 - val_loss: 0.6031 - val_acc: 0.6094\n",
      "Epoch 37/100\n",
      "36/36 [==============================] - 7s 182ms/step - loss: 0.3019 - acc: 0.8650 - val_loss: 2.7329 - val_acc: 0.5703\n",
      "Epoch 38/100\n",
      "36/36 [==============================] - 7s 191ms/step - loss: 0.2989 - acc: 0.8757 - val_loss: 0.7705 - val_acc: 0.6406\n",
      "Epoch 39/100\n",
      "36/36 [==============================] - 7s 188ms/step - loss: 0.3097 - acc: 0.8774 - val_loss: 0.5939 - val_acc: 0.5469\n",
      "Epoch 40/100\n",
      "36/36 [==============================] - 7s 185ms/step - loss: 0.3062 - acc: 0.8757 - val_loss: 2.5395 - val_acc: 0.5234\n",
      "Epoch 41/100\n",
      "36/36 [==============================] - 7s 182ms/step - loss: 0.2854 - acc: 0.8703 - val_loss: 0.4121 - val_acc: 0.7969\n",
      "Epoch 42/100\n",
      "36/36 [==============================] - 7s 188ms/step - loss: 0.3543 - acc: 0.8472 - val_loss: 12.1645 - val_acc: 0.5391\n",
      "Epoch 43/100\n",
      "36/36 [==============================] - 7s 195ms/step - loss: 0.3079 - acc: 0.8597 - val_loss: 0.6525 - val_acc: 0.5938: 4s - loss: 0.3271 -  - ETA: 2s - loss: 0.3198 \n",
      "Epoch 44/100\n",
      "36/36 [==============================] - 7s 189ms/step - loss: 0.2702 - acc: 0.8810 - val_loss: 2.6469 - val_acc: 0.5469\n",
      "Epoch 45/100\n",
      "36/36 [==============================] - 7s 182ms/step - loss: 0.2609 - acc: 0.8934 - val_loss: 1.5702 - val_acc: 0.5703\n",
      "Epoch 46/100\n",
      "36/36 [==============================] - 7s 184ms/step - loss: 0.2395 - acc: 0.8899 - val_loss: 1.8166 - val_acc: 0.5781\n",
      "Epoch 47/100\n",
      "36/36 [==============================] - 7s 184ms/step - loss: 0.2795 - acc: 0.8792 - val_loss: 0.4118 - val_acc: 0.7734\n",
      "Epoch 48/100\n",
      "36/36 [==============================] - 7s 186ms/step - loss: 0.2651 - acc: 0.8721 - val_loss: 1.3283 - val_acc: 0.6484\n",
      "Epoch 49/100\n",
      "36/36 [==============================] - 7s 185ms/step - loss: 0.2481 - acc: 0.8988 - val_loss: 0.6745 - val_acc: 0.7031\n",
      "Epoch 50/100\n",
      "36/36 [==============================] - 7s 191ms/step - loss: 0.2631 - acc: 0.8757 - val_loss: 0.8609 - val_acc: 0.5547\n",
      "Epoch 51/100\n",
      "36/36 [==============================] - 7s 185ms/step - loss: 0.2253 - acc: 0.8917 - val_loss: 0.8753 - val_acc: 0.5859\n",
      "Epoch 52/100\n",
      "36/36 [==============================] - 7s 183ms/step - loss: 0.2646 - acc: 0.8792 - val_loss: 0.9539 - val_acc: 0.7344\n",
      "Epoch 53/100\n",
      "36/36 [==============================] - 7s 197ms/step - loss: 0.2358 - acc: 0.8970 - val_loss: 0.4343 - val_acc: 0.7109\n",
      "Epoch 54/100\n",
      "36/36 [==============================] - 7s 191ms/step - loss: 0.2164 - acc: 0.9023 - val_loss: 0.4315 - val_acc: 0.7891\n",
      "Epoch 55/100\n",
      "36/36 [==============================] - 7s 191ms/step - loss: 0.2732 - acc: 0.8774 - val_loss: 0.4907 - val_acc: 0.8203\n",
      "Epoch 56/100\n",
      "36/36 [==============================] - 7s 182ms/step - loss: 0.2630 - acc: 0.8863 - val_loss: 0.5289 - val_acc: 0.7422\n",
      "Epoch 57/100\n",
      "36/36 [==============================] - 7s 184ms/step - loss: 0.2389 - acc: 0.8952 - val_loss: 0.7965 - val_acc: 0.6797\n",
      "Epoch 58/100\n",
      "36/36 [==============================] - 7s 187ms/step - loss: 0.2288 - acc: 0.9041 - val_loss: 0.5287 - val_acc: 0.6953\n",
      "Epoch 59/100\n",
      "36/36 [==============================] - 7s 188ms/step - loss: 0.2263 - acc: 0.8952 - val_loss: 1.0064 - val_acc: 0.7109\n",
      "Epoch 60/100\n",
      "36/36 [==============================] - 7s 181ms/step - loss: 0.2500 - acc: 0.9005 - val_loss: 0.8884 - val_acc: 0.7578\n",
      "Epoch 61/100\n"
     ]
    },
    {
     "name": "stdout",
     "output_type": "stream",
     "text": [
      "36/36 [==============================] - 7s 184ms/step - loss: 0.2445 - acc: 0.9076 - val_loss: 0.7721 - val_acc: 0.7031\n",
      "Epoch 62/100\n",
      "36/36 [==============================] - 7s 184ms/step - loss: 0.2335 - acc: 0.8988 - val_loss: 0.8003 - val_acc: 0.6406\n",
      "Epoch 63/100\n",
      "36/36 [==============================] - 7s 185ms/step - loss: 0.2076 - acc: 0.9041 - val_loss: 1.0007 - val_acc: 0.6328\n",
      "Epoch 64/100\n",
      "36/36 [==============================] - 7s 188ms/step - loss: 0.1957 - acc: 0.9183 - val_loss: 0.8565 - val_acc: 0.7578\n",
      "Epoch 65/100\n",
      "36/36 [==============================] - 7s 186ms/step - loss: 0.2749 - acc: 0.8739 - val_loss: 0.4120 - val_acc: 0.8438\n",
      "Epoch 66/100\n",
      "36/36 [==============================] - 7s 189ms/step - loss: 0.2619 - acc: 0.8810 - val_loss: 0.5591 - val_acc: 0.6250\n",
      "Epoch 67/100\n",
      "36/36 [==============================] - 7s 196ms/step - loss: 0.2506 - acc: 0.8917 - val_loss: 0.3579 - val_acc: 0.8438\n",
      "Epoch 68/100\n",
      "36/36 [==============================] - 8s 213ms/step - loss: 0.2218 - acc: 0.9045 - val_loss: 2.4065 - val_acc: 0.6016\n",
      "Epoch 69/100\n",
      "36/36 [==============================] - 7s 192ms/step - loss: 0.2150 - acc: 0.9059 - val_loss: 0.4301 - val_acc: 0.8516\n",
      "Epoch 70/100\n",
      "36/36 [==============================] - 7s 189ms/step - loss: 0.1956 - acc: 0.9076 - val_loss: 0.3611 - val_acc: 0.8750\n",
      "Epoch 71/100\n",
      "36/36 [==============================] - 7s 185ms/step - loss: 0.2440 - acc: 0.8970 - val_loss: 0.5541 - val_acc: 0.6875\n",
      "Epoch 72/100\n",
      "36/36 [==============================] - 7s 204ms/step - loss: 0.2505 - acc: 0.8917 - val_loss: 0.5757 - val_acc: 0.7969\n",
      "Epoch 73/100\n",
      "36/36 [==============================] - 8s 210ms/step - loss: 0.2302 - acc: 0.8899 - val_loss: 0.9109 - val_acc: 0.8047ss: 0.2259 -\n",
      "Epoch 74/100\n",
      "36/36 [==============================] - 7s 206ms/step - loss: 0.2254 - acc: 0.9112 - val_loss: 0.4980 - val_acc: 0.8438\n",
      "Epoch 75/100\n",
      "36/36 [==============================] - 7s 195ms/step - loss: 0.2291 - acc: 0.8970 - val_loss: 0.7256 - val_acc: 0.7031\n",
      "Epoch 76/100\n",
      "36/36 [==============================] - 7s 188ms/step - loss: 0.2147 - acc: 0.9023 - val_loss: 0.6292 - val_acc: 0.7734\n",
      "Epoch 77/100\n",
      "36/36 [==============================] - 7s 188ms/step - loss: 0.2137 - acc: 0.9076 - val_loss: 0.4236 - val_acc: 0.8203\n",
      "Epoch 78/100\n",
      "36/36 [==============================] - 7s 188ms/step - loss: 0.2042 - acc: 0.8970 - val_loss: 0.4537 - val_acc: 0.8672\n",
      "Epoch 79/100\n",
      "36/36 [==============================] - 7s 202ms/step - loss: 0.1707 - acc: 0.9272 - val_loss: 0.4381 - val_acc: 0.8359\n",
      "Epoch 80/100\n",
      "36/36 [==============================] - 7s 183ms/step - loss: 0.1578 - acc: 0.9432 - val_loss: 1.3744 - val_acc: 0.6641\n",
      "Epoch 81/100\n",
      "36/36 [==============================] - 7s 207ms/step - loss: 0.1890 - acc: 0.9254 - val_loss: 0.2503 - val_acc: 0.921987 - a\n",
      "Epoch 82/100\n",
      "36/36 [==============================] - 7s 189ms/step - loss: 0.1501 - acc: 0.9325 - val_loss: 0.3331 - val_acc: 0.8672\n",
      "Epoch 83/100\n",
      "36/36 [==============================] - 7s 189ms/step - loss: 0.1793 - acc: 0.9254 - val_loss: 0.3274 - val_acc: 0.9062\n",
      "Epoch 84/100\n",
      "36/36 [==============================] - 7s 190ms/step - loss: 0.1809 - acc: 0.9183 - val_loss: 0.3086 - val_acc: 0.8438\n",
      "Epoch 85/100\n",
      "36/36 [==============================] - 7s 187ms/step - loss: 0.1766 - acc: 0.9307 - val_loss: 0.3346 - val_acc: 0.8984\n",
      "Epoch 86/100\n",
      "36/36 [==============================] - 7s 185ms/step - loss: 0.1734 - acc: 0.9236 - val_loss: 0.6889 - val_acc: 0.8281\n",
      "Epoch 87/100\n",
      "36/36 [==============================] - 7s 190ms/step - loss: 0.1561 - acc: 0.9254 - val_loss: 0.2835 - val_acc: 0.8750\n",
      "Epoch 88/100\n",
      "36/36 [==============================] - 7s 188ms/step - loss: 0.1914 - acc: 0.9130 - val_loss: 0.3062 - val_acc: 0.9219\n",
      "Epoch 89/100\n",
      "36/36 [==============================] - 7s 185ms/step - loss: 0.1639 - acc: 0.9307 - val_loss: 0.3706 - val_acc: 0.8281\n",
      "Epoch 90/100\n",
      "36/36 [==============================] - 7s 185ms/step - loss: 0.1553 - acc: 0.9201 - val_loss: 0.4832 - val_acc: 0.8594\n",
      "Epoch 91/100\n",
      "36/36 [==============================] - 7s 187ms/step - loss: 0.1653 - acc: 0.9325 - val_loss: 1.2790 - val_acc: 0.6875\n",
      "Epoch 92/100\n",
      "36/36 [==============================] - 7s 188ms/step - loss: 0.1766 - acc: 0.9218 - val_loss: 0.4972 - val_acc: 0.8281\n",
      "Epoch 93/100\n",
      "36/36 [==============================] - 7s 203ms/step - loss: 0.1573 - acc: 0.9361 - val_loss: 1.3144 - val_acc: 0.6328\n",
      "Epoch 94/100\n",
      "36/36 [==============================] - 7s 201ms/step - loss: 0.1992 - acc: 0.9165 - val_loss: 1.3527 - val_acc: 0.6250\n",
      "Epoch 95/100\n",
      "36/36 [==============================] - 7s 186ms/step - loss: 0.1556 - acc: 0.9272 - val_loss: 0.6830 - val_acc: 0.8203\n",
      "Epoch 96/100\n",
      "36/36 [==============================] - 7s 185ms/step - loss: 0.1354 - acc: 0.9343 - val_loss: 0.6317 - val_acc: 0.8516\n",
      "Epoch 97/100\n",
      "36/36 [==============================] - 7s 184ms/step - loss: 0.1239 - acc: 0.9467 - val_loss: 0.4364 - val_acc: 0.8906\n",
      "Epoch 98/100\n",
      "36/36 [==============================] - 7s 184ms/step - loss: 0.1740 - acc: 0.9307 - val_loss: 0.8563 - val_acc: 0.6797\n",
      "Epoch 99/100\n",
      "36/36 [==============================] - 7s 185ms/step - loss: 0.1126 - acc: 0.9449 - val_loss: 0.4769 - val_acc: 0.8750\n",
      "Epoch 100/100\n",
      "36/36 [==============================] - 7s 197ms/step - loss: 0.1613 - acc: 0.9325 - val_loss: 0.7948 - val_acc: 0.8281\n"
     ]
    }
   ],
   "source": [
    "model_1.compile(optimizer=Adam(learning_rate=0.001), \n",
    "              loss='binary_crossentropy', \n",
    "              metrics=['acc'])\n",
    "callback = EarlyStopping(\n",
    "    monitor=\"val_acc\",\n",
    "    patience=100,\n",
    "    verbose=1,\n",
    "    restore_best_weights=True,\n",
    ")\n",
    "train_step_size = train_dataset.n // train_dataset.batch_size\n",
    "val_step_size = validation_dataset.n // validation_dataset.batch_size\n",
    "history_model_1 = model_1.fit(train_dataset, epochs = 100, steps_per_epoch = train_step_size, validation_steps = val_step_size ,validation_data=validation_dataset, callbacks=[callback])"
   ]
  },
  {
   "cell_type": "code",
   "execution_count": 39,
   "metadata": {},
   "outputs": [
    {
     "data": {
      "image/png": "[encoded data removed]",
      "text/plain": [
       "<Figure size 432x288 with 1 Axes>"
      ]
     },
     "metadata": {},
     "output_type": "display_data"
    }
   ],
   "source": [
    "import matplotlib.pyplot as plt\n",
    "import numpy as np\n",
    "plt.style.use(\"ggplot\")\n",
    "plt.plot(np.arange(0, 100), history_model_1.history[\"loss\"], label=\"train_loss\")\n",
    "plt.plot(np.arange(0, 100), history_model_1.history[\"val_loss\"], label=\"val_loss\")\n",
    "plt.title(\"Loss Plot\")\n",
    "plt.xlabel(\"Epoch #\")\n",
    "plt.ylabel(\"Loss\")\n",
    "plt.legend()\n",
    "plt.show()"
   ]
  },
  {
   "cell_type": "code",
   "execution_count": 40,
   "metadata": {},
   "outputs": [
    {
     "data": {
      "image/png": "[encoded data removed]",
      "text/plain": [
       "<Figure size 432x288 with 1 Axes>"
      ]
     },
     "metadata": {},
     "output_type": "display_data"
    }
   ],
   "source": [
    "plt.style.use(\"ggplot\")\n",
    "plt.plot(np.arange(0, 100), history_model_1.history[\"acc\"], label=\"train_acc\")\n",
    "plt.plot(np.arange(0, 100), history_model_1.history[\"val_acc\"], label=\"val_acc\")\n",
    "plt.title(\"Accuracy Plot\")\n",
    "plt.xlabel(\"Epoch #\")\n",
    "plt.ylabel(\"Acc\")\n",
    "plt.legend()\n",
    "plt.show()"
   ]
  },
  {
   "cell_type": "code",
   "execution_count": 41,
   "metadata": {},
   "outputs": [
    {
     "name": "stdout",
     "output_type": "stream",
     "text": [
      "37/37 [==============================] - 7s 187ms/step - loss: 0.2764 - acc: 0.8946 5s -\n",
      "\n",
      " Hasil Akurasi Train:- 0.8946459293365479  Hasil Loss Train 0.27639442682266235\n",
      "9/9 [==============================] - 1s 87ms/step - loss: 0.7535 - acc: 0.8321\n",
      "\n",
      " Hasil Akurasi Val:- 0.8321167826652527  Hasil Loss Val 0.7535160183906555\n",
      "1/1 [==============================] - 0s 487ms/step - loss: 1.0227 - acc: 0.8750\n",
      "\n",
      " Hasil Akurasi Test:- 0.875  Hasil Loss Test 1.0226800441741943\n"
     ]
    }
   ],
   "source": [
    "result_train = model_1.evaluate(train_dataset, verbose=1)\n",
    "print('\\n', 'Hasil Akurasi Train:-', result_train[1],\" Hasil Loss Train\", result_train[0])\n",
    "result_val = model_1.evaluate(validation_dataset, verbose=1)\n",
    "print('\\n', 'Hasil Akurasi Val:-', result_val[1],\" Hasil Loss Val\", result_val[0])\n",
    "result_test = model_1.evaluate(test_dataset, verbose=1)\n",
    "print('\\n', 'Hasil Akurasi Test:-', result_test[1],\" Hasil Loss Test\", result_test[0])"
   ]
  },
  {
   "cell_type": "code",
   "execution_count": 42,
   "metadata": {},
   "outputs": [
    {
     "name": "stdout",
     "output_type": "stream",
     "text": [
      "Confusion Matrix\n",
      "[[4 0]\n",
      " [4 0]]\n"
     ]
    }
   ],
   "source": [
    "from sklearn.metrics import classification_report, confusion_matrix\n",
    "import numpy as np\n",
    "\n",
    "y_true_test = test_dataset.classes\n",
    "y_pred = np.round(model_1.predict(test_dataset),0)\n",
    "y_pred=np.argmax(y_pred, axis=1)\n",
    "\n",
    "print('Confusion Matrix')\n",
    "print(confusion_matrix(y_true_test, y_pred))"
   ]
  },
  {
   "cell_type": "code",
   "execution_count": 43,
   "metadata": {},
   "outputs": [
    {
     "name": "stdout",
     "output_type": "stream",
     "text": [
      "Classification Report\n",
      "                precision    recall  f1-score   support\n",
      "\n",
      "acral melanoma       0.50      1.00      0.67         4\n",
      "   benign nevi       1.00      0.00      0.00         4\n",
      "\n",
      "      accuracy                           0.50         8\n",
      "     macro avg       0.75      0.50      0.33         8\n",
      "  weighted avg       0.75      0.50      0.33         8\n",
      "\n"
     ]
    }
   ],
   "source": [
    "print('Classification Report')\n",
    "\n",
    "target_names = ['acral melanoma', 'benign nevi']\n",
    "print(classification_report(y_true_test, y_pred, target_names=target_names, zero_division=1))"
   ]
  },
  {
   "cell_type": "code",
   "execution_count": 44,
   "metadata": {},
   "outputs": [],
   "source": [
    "model_1.save('model-preprocess-1.h5')"
   ]
  },
  {
   "cell_type": "markdown",
   "metadata": {},
   "source": [
    "### MODEL 2"
   ]
  },
  {
   "cell_type": "code",
   "execution_count": 45,
   "metadata": {},
   "outputs": [
    {
     "name": "stdout",
     "output_type": "stream",
     "text": [
      "Model: \"sequential_1\"\n",
      "_________________________________________________________________\n",
      "Layer (type)                 Output Shape              Param #   \n",
      "=================================================================\n",
      "conv2d_4 (Conv2D)            (None, 224, 224, 128)     3584      \n",
      "_________________________________________________________________\n",
      "max_pooling2d_4 (MaxPooling2 (None, 112, 112, 128)     0         \n",
      "_________________________________________________________________\n",
      "batch_normalization_4 (Batch (None, 112, 112, 128)     512       \n",
      "_________________________________________________________________\n",
      "conv2d_5 (Conv2D)            (None, 112, 112, 64)      73792     \n",
      "_________________________________________________________________\n",
      "max_pooling2d_5 (MaxPooling2 (None, 56, 56, 64)        0         \n",
      "_________________________________________________________________\n",
      "batch_normalization_5 (Batch (None, 56, 56, 64)        256       \n",
      "_________________________________________________________________\n",
      "conv2d_6 (Conv2D)            (None, 56, 56, 32)        18464     \n",
      "_________________________________________________________________\n",
      "max_pooling2d_6 (MaxPooling2 (None, 28, 28, 32)        0         \n",
      "_________________________________________________________________\n",
      "batch_normalization_6 (Batch (None, 28, 28, 32)        128       \n",
      "_________________________________________________________________\n",
      "flatten_1 (Flatten)          (None, 25088)             0         \n",
      "_________________________________________________________________\n",
      "dropout_1 (Dropout)          (None, 25088)             0         \n",
      "_________________________________________________________________\n",
      "dense_2 (Dense)              (None, 512)               12845568  \n",
      "_________________________________________________________________\n",
      "dense_3 (Dense)              (None, 1)                 513       \n",
      "=================================================================\n",
      "Total params: 12,942,817\n",
      "Trainable params: 12,942,369\n",
      "Non-trainable params: 448\n",
      "_________________________________________________________________\n"
     ]
    }
   ],
   "source": [
    "model_2 = Sequential()\n",
    "\n",
    "model_2.add(InputLayer(input_shape=[224,224,3]))\n",
    "model_2.add(Conv2D(filters=128, kernel_size=3, strides=1, padding='same', activation='relu'))\n",
    "model_2.add(MaxPool2D(pool_size=2, padding='same'))\n",
    "model_2.add(BatchNormalization())\n",
    "\n",
    "model_2.add(Conv2D(filters=64, kernel_size=3, strides=1, padding='same', activation='relu'))\n",
    "model_2.add(MaxPool2D(pool_size=2, padding='same'))\n",
    "model_2.add(BatchNormalization())\n",
    "\n",
    "model_2.add(Conv2D(filters=32, kernel_size=3, strides=1, padding='same', activation='relu'))\n",
    "model_2.add(MaxPool2D(pool_size=2, padding='same'))\n",
    "model_2.add(BatchNormalization())\n",
    "\n",
    "model_2.add(Flatten())\n",
    "model_2.add(Dropout(0.2))\n",
    "model_2.add(Dense(512, activation='relu'))\n",
    "model_2.add(Dense(1, activation='sigmoid'))\n",
    "\n",
    "model_2.summary()"
   ]
  },
  {
   "cell_type": "code",
   "execution_count": 46,
   "metadata": {},
   "outputs": [
    {
     "name": "stdout",
     "output_type": "stream",
     "text": [
      "Epoch 1/100\n",
      "36/36 [==============================] - 10s 231ms/step - loss: 1.2423 - acc: 0.6732 - val_loss: 0.7149 - val_acc: 0.5234\n",
      "Epoch 2/100\n",
      "36/36 [==============================] - 10s 263ms/step - loss: 0.5663 - acc: 0.7620 - val_loss: 0.8612 - val_acc: 0.5078\n",
      "Epoch 3/100\n",
      "36/36 [==============================] - 7s 198ms/step - loss: 0.5482 - acc: 0.7460 - val_loss: 1.0922 - val_acc: 0.5156\n",
      "Epoch 4/100\n",
      "36/36 [==============================] - 7s 198ms/step - loss: 0.4955 - acc: 0.7638 - val_loss: 1.4997 - val_acc: 0.5078\n",
      "Epoch 5/100\n",
      "36/36 [==============================] - 7s 195ms/step - loss: 0.4733 - acc: 0.7940 - val_loss: 2.1634 - val_acc: 0.5000- ac\n",
      "Epoch 6/100\n",
      "36/36 [==============================] - 7s 193ms/step - loss: 0.4442 - acc: 0.7940 - val_loss: 2.0676 - val_acc: 0.5234\n",
      "Epoch 7/100\n",
      "36/36 [==============================] - 7s 192ms/step - loss: 0.4432 - acc: 0.8028 - val_loss: 2.1610 - val_acc: 0.5078\n",
      "Epoch 8/100\n",
      "36/36 [==============================] - 7s 190ms/step - loss: 0.3589 - acc: 0.8366 - val_loss: 1.8236 - val_acc: 0.5078\n",
      "Epoch 9/100\n",
      "36/36 [==============================] - 7s 190ms/step - loss: 0.4040 - acc: 0.7993 - val_loss: 1.9821 - val_acc: 0.5312 acc: \n",
      "Epoch 10/100\n",
      "36/36 [==============================] - 7s 193ms/step - loss: 0.4053 - acc: 0.8099 - val_loss: 1.3891 - val_acc: 0.5156\n",
      "Epoch 11/100\n",
      "36/36 [==============================] - 7s 192ms/step - loss: 0.3434 - acc: 0.8668 - val_loss: 0.8707 - val_acc: 0.5312\n",
      "Epoch 12/100\n",
      "36/36 [==============================] - 7s 203ms/step - loss: 0.3375 - acc: 0.8455 - val_loss: 0.8719 - val_acc: 0.5625\n",
      "Epoch 13/100\n",
      "36/36 [==============================] - 7s 196ms/step - loss: 0.3381 - acc: 0.8508 - val_loss: 0.4385 - val_acc: 0.7891\n",
      "Epoch 14/100\n",
      "36/36 [==============================] - 7s 201ms/step - loss: 0.3376 - acc: 0.8579 - val_loss: 0.4647 - val_acc: 0.7812\n",
      "Epoch 15/100\n",
      "36/36 [==============================] - 7s 193ms/step - loss: 0.3212 - acc: 0.8739 - val_loss: 0.7358 - val_acc: 0.7188\n",
      "Epoch 16/100\n",
      "36/36 [==============================] - 7s 194ms/step - loss: 0.3612 - acc: 0.8419 - val_loss: 1.1017 - val_acc: 0.7344 loss: 0.35 - ETA: 1s - loss: 0.3717 - ac\n",
      "Epoch 17/100\n",
      "36/36 [==============================] - 7s 203ms/step - loss: 0.3459 - acc: 0.8615 - val_loss: 2.1396 - val_acc: 0.6328\n",
      "Epoch 18/100\n",
      "36/36 [==============================] - 7s 202ms/step - loss: 0.3452 - acc: 0.8366 - val_loss: 0.9429 - val_acc: 0.7344\n",
      "Epoch 19/100\n",
      "36/36 [==============================] - 7s 197ms/step - loss: 0.3356 - acc: 0.8544 - val_loss: 0.9402 - val_acc: 0.7422\n",
      "Epoch 20/100\n",
      "36/36 [==============================] - 7s 197ms/step - loss: 0.3504 - acc: 0.8333 - val_loss: 6.0246 - val_acc: 0.5703\n",
      "Epoch 21/100\n",
      "36/36 [==============================] - 7s 196ms/step - loss: 0.3224 - acc: 0.8668 - val_loss: 1.1276 - val_acc: 0.7344\n",
      "Epoch 22/100\n",
      "36/36 [==============================] - 7s 197ms/step - loss: 0.3008 - acc: 0.8650 - val_loss: 1.2860 - val_acc: 0.6875\n",
      "Epoch 23/100\n",
      "36/36 [==============================] - 7s 193ms/step - loss: 0.3035 - acc: 0.8774 - val_loss: 0.8506 - val_acc: 0.7656\n",
      "Epoch 24/100\n",
      "36/36 [==============================] - 7s 194ms/step - loss: 0.2957 - acc: 0.8632 - val_loss: 1.5602 - val_acc: 0.7109\n",
      "Epoch 25/100\n",
      "36/36 [==============================] - 7s 197ms/step - loss: 0.2802 - acc: 0.8917 - val_loss: 1.8157 - val_acc: 0.7031\n",
      "Epoch 26/100\n",
      "36/36 [==============================] - 7s 198ms/step - loss: 0.2420 - acc: 0.8988 - val_loss: 1.1431 - val_acc: 0.6953- loss: \n",
      "Epoch 27/100\n",
      "36/36 [==============================] - 7s 196ms/step - loss: 0.2870 - acc: 0.8792 - val_loss: 1.9930 - val_acc: 0.6953\n",
      "Epoch 28/100\n",
      "36/36 [==============================] - 7s 196ms/step - loss: 0.3014 - acc: 0.8686 - val_loss: 1.2769 - val_acc: 0.7578\n",
      "Epoch 29/100\n",
      "36/36 [==============================] - 7s 196ms/step - loss: 0.2835 - acc: 0.8739 - val_loss: 4.4115 - val_acc: 0.6328\n",
      "Epoch 30/100\n",
      "36/36 [==============================] - 7s 195ms/step - loss: 0.2546 - acc: 0.8810 - val_loss: 2.8344 - val_acc: 0.6172\n",
      "Epoch 31/100\n",
      "36/36 [==============================] - 7s 202ms/step - loss: 0.3015 - acc: 0.8792 - val_loss: 1.4467 - val_acc: 0.7500: 4s - los\n",
      "Epoch 32/100\n",
      "36/36 [==============================] - 7s 196ms/step - loss: 0.2624 - acc: 0.8899 - val_loss: 0.7305 - val_acc: 0.7812 - loss\n",
      "Epoch 33/100\n",
      "36/36 [==============================] - 7s 193ms/step - loss: 0.2288 - acc: 0.9094 - val_loss: 1.1679 - val_acc: 0.67973s - loss: \n",
      "Epoch 34/100\n",
      "36/36 [==============================] - 7s 194ms/step - loss: 0.2506 - acc: 0.8881 - val_loss: 1.5099 - val_acc: 0.7344oss: 0.2641 -  - ETA: 0s - loss: 0.2521 - acc: 0.8\n",
      "Epoch 35/100\n",
      "36/36 [==============================] - 7s 196ms/step - loss: 0.2291 - acc: 0.8988 - val_loss: 1.4577 - val_acc: 0.7266\n",
      "Epoch 36/100\n",
      "36/36 [==============================] - 7s 195ms/step - loss: 0.2180 - acc: 0.9076 - val_loss: 6.5702 - val_acc: 0.5547\n",
      "Epoch 37/100\n",
      "36/36 [==============================] - 7s 195ms/step - loss: 0.2332 - acc: 0.9112 - val_loss: 1.0575 - val_acc: 0.7344\n",
      "Epoch 38/100\n",
      "36/36 [==============================] - 7s 194ms/step - loss: 0.2057 - acc: 0.9201 - val_loss: 1.0832 - val_acc: 0.6641 2s - loss: 0.1909 -\n",
      "Epoch 39/100\n",
      "36/36 [==============================] - 7s 198ms/step - loss: 0.1966 - acc: 0.9218 - val_loss: 1.1225 - val_acc: 0.6797\n",
      "Epoch 40/100\n",
      "36/36 [==============================] - 7s 195ms/step - loss: 0.1819 - acc: 0.9272 - val_loss: 0.7722 - val_acc: 0.8047\n",
      "Epoch 41/100\n",
      "36/36 [==============================] - 7s 195ms/step - loss: 0.2046 - acc: 0.9218 - val_loss: 1.7914 - val_acc: 0.6484\n",
      "Epoch 42/100\n",
      "36/36 [==============================] - 8s 210ms/step - loss: 0.1929 - acc: 0.9201 - val_loss: 1.7802 - val_acc: 0.7500\n",
      "Epoch 43/100\n",
      "36/36 [==============================] - 7s 204ms/step - loss: 0.1932 - acc: 0.9218 - val_loss: 7.7039 - val_acc: 0.5859\n",
      "Epoch 44/100\n",
      "36/36 [==============================] - 7s 204ms/step - loss: 0.2010 - acc: 0.9343 - val_loss: 4.0809 - val_acc: 0.6562\n",
      "Epoch 45/100\n",
      "36/36 [==============================] - 7s 201ms/step - loss: 0.2311 - acc: 0.9130 - val_loss: 1.3842 - val_acc: 0.6875\n",
      "Epoch 46/100\n",
      "36/36 [==============================] - 7s 198ms/step - loss: 0.2089 - acc: 0.9272 - val_loss: 4.2927 - val_acc: 0.6172\n",
      "Epoch 47/100\n",
      "36/36 [==============================] - 7s 196ms/step - loss: 0.2036 - acc: 0.9183 - val_loss: 1.6758 - val_acc: 0.7734\n",
      "Epoch 48/100\n",
      "36/36 [==============================] - 7s 199ms/step - loss: 0.1854 - acc: 0.9254 - val_loss: 11.5199 - val_acc: 0.6016oss: 0 - ETA: 0s - loss: 0.1829 - acc: 0.92\n",
      "Epoch 49/100\n",
      "36/36 [==============================] - 7s 197ms/step - loss: 0.2835 - acc: 0.8845 - val_loss: 3.3974 - val_acc: 0.671935 - acc: 0.884\n",
      "Epoch 50/100\n",
      "36/36 [==============================] - 7s 199ms/step - loss: 0.1746 - acc: 0.9290 - val_loss: 0.7018 - val_acc: 0.8594\n",
      "Epoch 51/100\n",
      "36/36 [==============================] - 8s 208ms/step - loss: 0.1475 - acc: 0.9378 - val_loss: 0.9855 - val_acc: 0.7031\n",
      "Epoch 52/100\n",
      "36/36 [==============================] - 8s 208ms/step - loss: 0.1992 - acc: 0.9201 - val_loss: 0.9539 - val_acc: 0.8047\n",
      "Epoch 53/100\n",
      "36/36 [==============================] - 8s 207ms/step - loss: 0.2039 - acc: 0.9130 - val_loss: 1.2832 - val_acc: 0.7500\n",
      "Epoch 54/100\n",
      "36/36 [==============================] - 7s 202ms/step - loss: 0.2013 - acc: 0.9023 - val_loss: 1.2815 - val_acc: 0.6641\n",
      "Epoch 55/100\n",
      "36/36 [==============================] - 7s 198ms/step - loss: 0.1970 - acc: 0.9183 - val_loss: 2.3919 - val_acc: 0.6875\n",
      "Epoch 56/100\n",
      "36/36 [==============================] - 7s 200ms/step - loss: 0.1999 - acc: 0.9112 - val_loss: 1.1094 - val_acc: 0.7188\n",
      "Epoch 57/100\n",
      "36/36 [==============================] - 7s 199ms/step - loss: 0.1824 - acc: 0.9236 - val_loss: 0.9473 - val_acc: 0.7422\n",
      "Epoch 58/100\n",
      "36/36 [==============================] - 7s 204ms/step - loss: 0.1477 - acc: 0.9290 - val_loss: 0.8988 - val_acc: 0.8047\n",
      "Epoch 59/100\n",
      "36/36 [==============================] - 7s 196ms/step - loss: 0.1346 - acc: 0.9361 - val_loss: 1.2012 - val_acc: 0.7969\n",
      "Epoch 60/100\n"
     ]
    },
    {
     "name": "stdout",
     "output_type": "stream",
     "text": [
      "36/36 [==============================] - 7s 201ms/step - loss: 0.1331 - acc: 0.9556 - val_loss: 0.8344 - val_acc: 0.7891\n",
      "Epoch 61/100\n",
      "36/36 [==============================] - 7s 202ms/step - loss: 0.1462 - acc: 0.9414 - val_loss: 2.1017 - val_acc: 0.6406\n",
      "Epoch 62/100\n",
      "36/36 [==============================] - 7s 201ms/step - loss: 0.1002 - acc: 0.9574 - val_loss: 1.4033 - val_acc: 0.7422: 4s - loss: 0.0846  - ETA: 1s - loss: 0.0919 - a\n",
      "Epoch 63/100\n",
      "36/36 [==============================] - 7s 205ms/step - loss: 0.1416 - acc: 0.9396 - val_loss: 5.5377 - val_acc: 0.6172\n",
      "Epoch 64/100\n",
      "36/36 [==============================] - 7s 198ms/step - loss: 0.1092 - acc: 0.9627 - val_loss: 3.0847 - val_acc: 0.6641 3s - loss: \n",
      "Epoch 65/100\n",
      "36/36 [==============================] - 7s 205ms/step - loss: 0.1384 - acc: 0.9375 - val_loss: 1.0271 - val_acc: 0.7812\n",
      "Epoch 66/100\n",
      "36/36 [==============================] - 7s 202ms/step - loss: 0.0833 - acc: 0.9645 - val_loss: 1.6874 - val_acc: 0.7500 0.964\n",
      "Epoch 67/100\n",
      "36/36 [==============================] - 7s 203ms/step - loss: 0.1165 - acc: 0.9680 - val_loss: 3.9507 - val_acc: 0.5781\n",
      "Epoch 68/100\n",
      "36/36 [==============================] - 7s 203ms/step - loss: 0.1493 - acc: 0.9378 - val_loss: 9.4999 - val_acc: 0.5938-\n",
      "Epoch 69/100\n",
      "36/36 [==============================] - 7s 193ms/step - loss: 0.1328 - acc: 0.9520 - val_loss: 5.8049 - val_acc: 0.6406\n",
      "Epoch 70/100\n",
      "36/36 [==============================] - 7s 204ms/step - loss: 0.1467 - acc: 0.9378 - val_loss: 1.1301 - val_acc: 0.7812loss: 0\n",
      "Epoch 71/100\n",
      "36/36 [==============================] - 7s 203ms/step - loss: 0.0920 - acc: 0.9645 - val_loss: 1.1968 - val_acc: 0.7422\n",
      "Epoch 72/100\n",
      "36/36 [==============================] - 8s 208ms/step - loss: 0.1119 - acc: 0.9538 - val_loss: 1.1882 - val_acc: 0.7969\n",
      "Epoch 73/100\n",
      "36/36 [==============================] - 9s 238ms/step - loss: 0.1395 - acc: 0.9556 - val_loss: 1.0950 - val_acc: 0.8047\n",
      "Epoch 74/100\n",
      "36/36 [==============================] - 8s 223ms/step - loss: 0.1520 - acc: 0.9449 - val_loss: 1.9121 - val_acc: 0.7578\n",
      "Epoch 75/100\n",
      "36/36 [==============================] - 8s 208ms/step - loss: 0.1048 - acc: 0.9627 - val_loss: 2.0580 - val_acc: 0.7031\n",
      "Epoch 76/100\n",
      "36/36 [==============================] - 7s 204ms/step - loss: 0.1136 - acc: 0.9531 - val_loss: 4.2342 - val_acc: 0.6016\n",
      "Epoch 77/100\n",
      "36/36 [==============================] - 7s 203ms/step - loss: 0.0848 - acc: 0.9645 - val_loss: 3.1094 - val_acc: 0.6328\n",
      "Epoch 78/100\n",
      "36/36 [==============================] - 7s 202ms/step - loss: 0.1260 - acc: 0.9591 - val_loss: 2.9380 - val_acc: 0.6953\n",
      "Epoch 79/100\n",
      "36/36 [==============================] - 7s 198ms/step - loss: 0.0843 - acc: 0.9645 - val_loss: 0.6297 - val_acc: 0.8125\n",
      "Epoch 80/100\n",
      "36/36 [==============================] - 7s 197ms/step - loss: 0.0799 - acc: 0.9680 - val_loss: 0.6736 - val_acc: 0.7969\n",
      "Epoch 81/100\n",
      "36/36 [==============================] - 7s 197ms/step - loss: 0.0726 - acc: 0.9716 - val_loss: 0.7396 - val_acc: 0.7891\n",
      "Epoch 82/100\n",
      "36/36 [==============================] - 7s 197ms/step - loss: 0.1108 - acc: 0.9531 - val_loss: 1.0545 - val_acc: 0.8281: 0.953\n",
      "Epoch 83/100\n",
      "36/36 [==============================] - 7s 201ms/step - loss: 0.0889 - acc: 0.9663 - val_loss: 0.9249 - val_acc: 0.8281\n",
      "Epoch 84/100\n",
      "36/36 [==============================] - 7s 197ms/step - loss: 0.0946 - acc: 0.9734 - val_loss: 1.8564 - val_acc: 0.6953\n",
      "Epoch 85/100\n",
      "36/36 [==============================] - 7s 196ms/step - loss: 0.0641 - acc: 0.9698 - val_loss: 0.8017 - val_acc: 0.8359\n",
      "Epoch 86/100\n",
      "36/36 [==============================] - 7s 201ms/step - loss: 0.0619 - acc: 0.9822 - val_loss: 1.9717 - val_acc: 0.7344\n",
      "Epoch 87/100\n",
      "36/36 [==============================] - 7s 203ms/step - loss: 0.0644 - acc: 0.9787 - val_loss: 2.6555 - val_acc: 0.6875\n",
      "Epoch 88/100\n",
      "36/36 [==============================] - 7s 194ms/step - loss: 0.0840 - acc: 0.9698 - val_loss: 1.2845 - val_acc: 0.8125\n",
      "Epoch 89/100\n",
      "36/36 [==============================] - 7s 200ms/step - loss: 0.0680 - acc: 0.9787 - val_loss: 1.4292 - val_acc: 0.7578\n",
      "Epoch 90/100\n",
      "36/36 [==============================] - 7s 200ms/step - loss: 0.0625 - acc: 0.9787 - val_loss: 1.4010 - val_acc: 0.8125\n",
      "Epoch 91/100\n",
      "36/36 [==============================] - 7s 199ms/step - loss: 0.0477 - acc: 0.9809 - val_loss: 2.0606 - val_acc: 0.7109\n",
      "Epoch 92/100\n",
      "36/36 [==============================] - 7s 199ms/step - loss: 0.0628 - acc: 0.9751 - val_loss: 0.8290 - val_acc: 0.8281- loss:\n",
      "Epoch 93/100\n",
      "36/36 [==============================] - 7s 200ms/step - loss: 0.0775 - acc: 0.9822 - val_loss: 0.7801 - val_acc: 0.7344\n",
      "Epoch 94/100\n",
      "36/36 [==============================] - 7s 196ms/step - loss: 0.0652 - acc: 0.9716 - val_loss: 1.7362 - val_acc: 0.69530.\n",
      "Epoch 95/100\n",
      "36/36 [==============================] - 7s 198ms/step - loss: 0.1542 - acc: 0.9432 - val_loss: 8.6137 - val_acc: 0.6094\n",
      "Epoch 96/100\n",
      "36/36 [==============================] - 7s 200ms/step - loss: 0.1043 - acc: 0.9716 - val_loss: 2.2665 - val_acc: 0.7031\n",
      "Epoch 97/100\n",
      "36/36 [==============================] - 7s 195ms/step - loss: 0.0954 - acc: 0.9538 - val_loss: 1.0456 - val_acc: 0.8281\n",
      "Epoch 98/100\n",
      "36/36 [==============================] - 7s 198ms/step - loss: 0.0403 - acc: 0.9929 - val_loss: 0.9300 - val_acc: 0.8125: 6s - loss: 0. - ETA: 2s - loss: 0.0398 \n",
      "Epoch 99/100\n",
      "36/36 [==============================] - 7s 201ms/step - loss: 0.0516 - acc: 0.9858 - val_loss: 0.9320 - val_acc: 0.7891\n",
      "Epoch 100/100\n",
      "36/36 [==============================] - 7s 203ms/step - loss: 0.0991 - acc: 0.9734 - val_loss: 0.7167 - val_acc: 0.7891\n"
     ]
    }
   ],
   "source": [
    "model_2.compile(optimizer=Adam(learning_rate=0.0001), \n",
    "              loss='binary_crossentropy', \n",
    "              metrics=['acc'])\n",
    "callback = EarlyStopping(\n",
    "    monitor=\"val_acc\",\n",
    "    patience=100,\n",
    "    verbose=1,\n",
    "    restore_best_weights=True,\n",
    ")\n",
    "train_step_size = train_dataset.n // train_dataset.batch_size\n",
    "val_step_size = validation_dataset.n // validation_dataset.batch_size\n",
    "history_model_2 = model_2.fit(train_dataset, epochs = 100, steps_per_epoch = train_step_size, validation_steps = val_step_size,validation_data=validation_dataset, callbacks = [callback])"
   ]
  },
  {
   "cell_type": "code",
   "execution_count": 47,
   "metadata": {},
   "outputs": [
    {
     "data": {
      "image/png": "[encoded data removed]",
      "text/plain": [
       "<Figure size 432x288 with 1 Axes>"
      ]
     },
     "metadata": {},
     "output_type": "display_data"
    }
   ],
   "source": [
    "plt.style.use(\"ggplot\")\n",
    "plt.plot(np.arange(0, 100), history_model_2.history[\"loss\"], label=\"train_loss\")\n",
    "plt.plot(np.arange(0, 100), history_model_2.history[\"val_loss\"], label=\"val_loss\")\n",
    "plt.title(\"Loss Plot\")\n",
    "plt.xlabel(\"Epoch #\")\n",
    "plt.ylabel(\"Loss\")\n",
    "plt.legend()\n",
    "plt.show()"
   ]
  },
  {
   "cell_type": "code",
   "execution_count": 48,
   "metadata": {},
   "outputs": [
    {
     "data": {
      "image/png": "[encoded data removed]",
      "text/plain": [
       "<Figure size 432x288 with 1 Axes>"
      ]
     },
     "metadata": {},
     "output_type": "display_data"
    }
   ],
   "source": [
    "plt.style.use(\"ggplot\")\n",
    "plt.plot(np.arange(0, 100), history_model_2.history[\"acc\"], label=\"train_acc\")\n",
    "plt.plot(np.arange(0, 100), history_model_2.history[\"val_acc\"], label=\"val_acc\")\n",
    "plt.title(\"Accuracy Plot\")\n",
    "plt.xlabel(\"Epoch #\")\n",
    "plt.ylabel(\"Acc\")\n",
    "plt.legend()\n",
    "plt.show()"
   ]
  },
  {
   "cell_type": "code",
   "execution_count": 49,
   "metadata": {},
   "outputs": [
    {
     "name": "stdout",
     "output_type": "stream",
     "text": [
      "37/37 [==============================] - 7s 191ms/step - loss: 0.0503 - acc: 0.9879 5s \n",
      "\n",
      " Hasil Akurasi Train:- 0.9879102110862732  Hasil Loss Train 0.0503256618976593\n",
      "9/9 [==============================] - 1s 104ms/step - loss: 0.7274 - acc: 0.7956\n",
      "\n",
      " Hasil Akurasi Val:- 0.7956204414367676  Hasil Loss Val 0.7273607850074768\n",
      "1/1 [==============================] - 1s 577ms/step - loss: 0.0673 - acc: 1.0000\n",
      "\n",
      " Hasil Akurasi Test:- 1.0  Hasil Loss Test 0.06733912229537964\n"
     ]
    }
   ],
   "source": [
    "result_train = model_2.evaluate(train_dataset, verbose=1)\n",
    "print('\\n', 'Hasil Akurasi Train:-', result_train[1],\" Hasil Loss Train\", result_train[0])\n",
    "result_val = model_2.evaluate(validation_dataset, verbose=1)\n",
    "print('\\n', 'Hasil Akurasi Val:-', result_val[1],\" Hasil Loss Val\", result_val[0])\n",
    "result_test = model_2.evaluate(test_dataset, verbose=1)\n",
    "print('\\n', 'Hasil Akurasi Test:-', result_test[1],\" Hasil Loss Test\", result_test[0])"
   ]
  },
  {
   "cell_type": "code",
   "execution_count": 50,
   "metadata": {},
   "outputs": [
    {
     "name": "stdout",
     "output_type": "stream",
     "text": [
      "Confusion Matrix\n",
      "[[4 0]\n",
      " [4 0]]\n"
     ]
    }
   ],
   "source": [
    "y_true_test = test_dataset.classes\n",
    "y_pred = np.round(model_2.predict(test_dataset),0)\n",
    "y_pred=np.argmax(y_pred, axis=1)\n",
    "\n",
    "print('Confusion Matrix')\n",
    "print(confusion_matrix(y_true_test, y_pred))"
   ]
  },
  {
   "cell_type": "code",
   "execution_count": 51,
   "metadata": {},
   "outputs": [
    {
     "name": "stdout",
     "output_type": "stream",
     "text": [
      "Classification Report\n",
      "                precision    recall  f1-score   support\n",
      "\n",
      "acral melanoma       0.50      1.00      0.67         4\n",
      "   benign nevi       1.00      0.00      0.00         4\n",
      "\n",
      "      accuracy                           0.50         8\n",
      "     macro avg       0.75      0.50      0.33         8\n",
      "  weighted avg       0.75      0.50      0.33         8\n",
      "\n"
     ]
    }
   ],
   "source": [
    "print('Classification Report')\n",
    "\n",
    "target_names = ['acral melanoma', 'benign nevi']\n",
    "print(classification_report(y_true_test, y_pred, target_names=target_names, zero_division=1))"
   ]
  },
  {
   "cell_type": "code",
   "execution_count": 52,
   "metadata": {},
   "outputs": [],
   "source": [
    "model_2.save('model-preprocess-2.h5')"
   ]
  },
  {
   "cell_type": "code",
   "execution_count": 43,
   "metadata": {},
   "outputs": [
    {
     "name": "stdout",
     "output_type": "stream",
     "text": [
      "C:\\Users\\Fadhlan\\Pembelajaran Mesin\n"
     ]
    }
   ],
   "source": [
    "%cd C:\\Users\\Fadhlan\\Pembelajaran Mesin"
   ]
  },
  {
   "cell_type": "code",
   "execution_count": 53,
   "metadata": {},
   "outputs": [
    {
     "name": "stdout",
     "output_type": "stream",
     "text": [
      "Model: \"sequential_2\"\n",
      "_________________________________________________________________\n",
      "Layer (type)                 Output Shape              Param #   \n",
      "=================================================================\n",
      "conv2d_7 (Conv2D)            (None, 224, 224, 128)     3584      \n",
      "_________________________________________________________________\n",
      "max_pooling2d_7 (MaxPooling2 (None, 112, 112, 128)     0         \n",
      "_________________________________________________________________\n",
      "batch_normalization_7 (Batch (None, 112, 112, 128)     512       \n",
      "_________________________________________________________________\n",
      "conv2d_8 (Conv2D)            (None, 112, 112, 128)     147584    \n",
      "_________________________________________________________________\n",
      "max_pooling2d_8 (MaxPooling2 (None, 56, 56, 128)       0         \n",
      "_________________________________________________________________\n",
      "batch_normalization_8 (Batch (None, 56, 56, 128)       512       \n",
      "_________________________________________________________________\n",
      "conv2d_9 (Conv2D)            (None, 56, 56, 256)       295168    \n",
      "_________________________________________________________________\n",
      "max_pooling2d_9 (MaxPooling2 (None, 28, 28, 256)       0         \n",
      "_________________________________________________________________\n",
      "batch_normalization_9 (Batch (None, 28, 28, 256)       1024      \n",
      "_________________________________________________________________\n",
      "conv2d_10 (Conv2D)           (None, 28, 28, 256)       590080    \n",
      "_________________________________________________________________\n",
      "max_pooling2d_10 (MaxPooling (None, 14, 14, 256)       0         \n",
      "_________________________________________________________________\n",
      "batch_normalization_10 (Batc (None, 14, 14, 256)       1024      \n",
      "_________________________________________________________________\n",
      "flatten_2 (Flatten)          (None, 50176)             0         \n",
      "_________________________________________________________________\n",
      "dense_4 (Dense)              (None, 256)               12845312  \n",
      "_________________________________________________________________\n",
      "dropout_2 (Dropout)          (None, 256)               0         \n",
      "_________________________________________________________________\n",
      "dense_5 (Dense)              (None, 1)                 257       \n",
      "=================================================================\n",
      "Total params: 13,885,057\n",
      "Trainable params: 13,883,521\n",
      "Non-trainable params: 1,536\n",
      "_________________________________________________________________\n"
     ]
    }
   ],
   "source": [
    "from tensorflow.keras.layers import BatchNormalization\n",
    "model_3 = Sequential()\n",
    "\n",
    "model_3.add(InputLayer(input_shape=[224,224,3]))\n",
    "\n",
    "model_3.add(Conv2D(filters=128, kernel_size=3, strides=1, padding='same', activation='relu'))\n",
    "model_3.add(MaxPool2D(pool_size=2, padding='same'))\n",
    "model_3.add(BatchNormalization())\n",
    "\n",
    "model_3.add(Conv2D(filters=128, kernel_size=3, strides=1, padding='same', activation='relu'))\n",
    "model_3.add(MaxPool2D(pool_size=2, padding='same'))\n",
    "model_3.add(BatchNormalization())\n",
    "\n",
    "model_3.add(Conv2D(filters=256, kernel_size=3, strides=1, padding='same', activation='relu'))\n",
    "model_3.add(MaxPool2D(pool_size=2, padding='same'))\n",
    "model_3.add(BatchNormalization())\n",
    "\n",
    "model_3.add(Conv2D(filters=256, kernel_size=3, strides=1, padding='same', activation='relu'))\n",
    "model_3.add(MaxPool2D(pool_size=2, padding='same'))\n",
    "model_3.add(BatchNormalization())\n",
    "\n",
    "model_3.add(Flatten())\n",
    "model_3.add(Dense(256, activation='relu'))\n",
    "model_3.add(Dropout(0.2))\n",
    "model_3.add(Dense(1, activation='sigmoid'))\n",
    "\n",
    "model_3.summary()"
   ]
  },
  {
   "cell_type": "code",
   "execution_count": 55,
   "metadata": {},
   "outputs": [
    {
     "name": "stdout",
     "output_type": "stream",
     "text": [
      "Epoch 1/125\n",
      "36/36 [==============================] - 8s 194ms/step - loss: 2.4330 - acc: 0.6217 - val_loss: 41.9407 - val_acc: 0.4745\n",
      "Epoch 2/125\n",
      "36/36 [==============================] - 7s 193ms/step - loss: 1.0175 - acc: 0.5737 - val_loss: 0.7088 - val_acc: 0.5693\n",
      "Epoch 3/125\n",
      "36/36 [==============================] - 7s 197ms/step - loss: 0.8822 - acc: 0.6501 - val_loss: 0.8312 - val_acc: 0.5620\n",
      "Epoch 4/125\n",
      "36/36 [==============================] - 7s 194ms/step - loss: 1.0443 - acc: 0.6909 - val_loss: 3.7725 - val_acc: 0.6496\n",
      "Epoch 5/125\n",
      "36/36 [==============================] - 7s 198ms/step - loss: 0.6782 - acc: 0.6430 - val_loss: 0.8252 - val_acc: 0.7007\n",
      "Epoch 6/125\n",
      "36/36 [==============================] - 7s 194ms/step - loss: 0.8042 - acc: 0.5808 - val_loss: 5.9888 - val_acc: 0.5255\n",
      "Epoch 7/125\n",
      "36/36 [==============================] - 7s 201ms/step - loss: 0.8511 - acc: 0.6696 - val_loss: 0.7118 - val_acc: 0.5109\n",
      "Epoch 8/125\n",
      "36/36 [==============================] - 8s 210ms/step - loss: 1.2451 - acc: 0.6430 - val_loss: 7.8885 - val_acc: 0.4891\n",
      "Epoch 9/125\n",
      "36/36 [==============================] - 7s 204ms/step - loss: 0.8443 - acc: 0.6679 - val_loss: 21.8873 - val_acc: 0.6642\n",
      "Epoch 10/125\n",
      "36/36 [==============================] - 8s 206ms/step - loss: 0.8738 - acc: 0.6625 - val_loss: 470.8761 - val_acc: 0.5182\n",
      "Epoch 11/125\n",
      "36/36 [==============================] - 8s 205ms/step - loss: 0.7658 - acc: 0.6679 - val_loss: 532.6044 - val_acc: 0.5182\n",
      "Epoch 12/125\n",
      "36/36 [==============================] - 8s 206ms/step - loss: 0.6960 - acc: 0.6465 - val_loss: 179.2837 - val_acc: 0.5109\n",
      "Epoch 13/125\n",
      "36/36 [==============================] - 8s 209ms/step - loss: 0.6213 - acc: 0.6909 - val_loss: 141.2868 - val_acc: 0.5036\n",
      "Epoch 14/125\n",
      "36/36 [==============================] - 8s 207ms/step - loss: 0.6061 - acc: 0.6767 - val_loss: 59.1790 - val_acc: 0.4818\n",
      "Epoch 15/125\n",
      "36/36 [==============================] - 8s 208ms/step - loss: 0.5651 - acc: 0.6945 - val_loss: 93.7929 - val_acc: 0.4745\n",
      "Epoch 16/125\n",
      "36/36 [==============================] - 8s 209ms/step - loss: 0.5861 - acc: 0.7229 - val_loss: 48.4557 - val_acc: 0.5109\n",
      "Epoch 17/125\n",
      "36/36 [==============================] - 7s 204ms/step - loss: 0.6216 - acc: 0.6430 - val_loss: 74.2474 - val_acc: 0.5036\n",
      "Epoch 18/125\n",
      "36/36 [==============================] - 8s 218ms/step - loss: 0.6048 - acc: 0.6909 - val_loss: 16.0953 - val_acc: 0.5401\n",
      "Epoch 19/125\n",
      "36/36 [==============================] - 8s 228ms/step - loss: 0.6054 - acc: 0.6909 - val_loss: 0.8129 - val_acc: 0.5839\n",
      "Epoch 20/125\n",
      "36/36 [==============================] - 8s 210ms/step - loss: 0.5668 - acc: 0.7229 - val_loss: 1.5395 - val_acc: 0.6715\n",
      "Epoch 21/125\n",
      "36/36 [==============================] - 8s 211ms/step - loss: 0.6253 - acc: 0.7211 - val_loss: 200.0302 - val_acc: 0.5036\n",
      "Epoch 22/125\n",
      "36/36 [==============================] - 8s 214ms/step - loss: 0.6614 - acc: 0.6750 - val_loss: 67.4546 - val_acc: 0.4745\n",
      "Epoch 23/125\n",
      "36/36 [==============================] - 8s 211ms/step - loss: 0.5785 - acc: 0.6998 - val_loss: 2.4517 - val_acc: 0.6423\n",
      "Epoch 24/125\n",
      "36/36 [==============================] - 8s 211ms/step - loss: 0.5224 - acc: 0.7460 - val_loss: 0.7851 - val_acc: 0.5255\n",
      "Epoch 25/125\n",
      "36/36 [==============================] - 8s 212ms/step - loss: 0.5754 - acc: 0.7211 - val_loss: 8.4082 - val_acc: 0.5766ac\n",
      "Epoch 26/125\n",
      "36/36 [==============================] - 8s 211ms/step - loss: 0.5527 - acc: 0.7389 - val_loss: 53.9807 - val_acc: 0.4599\n",
      "Epoch 27/125\n",
      "36/36 [==============================] - 8s 213ms/step - loss: 0.5684 - acc: 0.7140 - val_loss: 1.2645 - val_acc: 0.6058\n",
      "Epoch 28/125\n",
      "36/36 [==============================] - 8s 211ms/step - loss: 0.5599 - acc: 0.7247 - val_loss: 18.2502 - val_acc: 0.5474\n",
      "Epoch 29/125\n",
      "36/36 [==============================] - 8s 216ms/step - loss: 0.5350 - acc: 0.7673 - val_loss: 1.5099 - val_acc: 0.5255ss: 0.5236 - acc:  - ETA: 1s - loss: 0.5370 - acc\n",
      "Epoch 30/125\n",
      "36/36 [==============================] - 8s 214ms/step - loss: 0.5381 - acc: 0.7425 - val_loss: 96.4470 - val_acc: 0.5693\n",
      "Epoch 31/125\n",
      "36/36 [==============================] - 8s 210ms/step - loss: 0.5349 - acc: 0.7371 - val_loss: 24.3889 - val_acc: 0.5474\n",
      "Epoch 32/125\n",
      "36/36 [==============================] - 8s 212ms/step - loss: 0.5401 - acc: 0.7407 - val_loss: 269.6519 - val_acc: 0.5109\n",
      "Epoch 33/125\n",
      "36/36 [==============================] - 8s 212ms/step - loss: 0.5897 - acc: 0.6874 - val_loss: 122.9063 - val_acc: 0.5036\n",
      "Epoch 34/125\n",
      "36/36 [==============================] - 8s 216ms/step - loss: 0.5478 - acc: 0.7496 - val_loss: 3.0555 - val_acc: 0.6350\n",
      "Epoch 35/125\n",
      "36/36 [==============================] - 8s 217ms/step - loss: 0.5502 - acc: 0.7496 - val_loss: 0.8806 - val_acc: 0.5328\n",
      "Epoch 36/125\n",
      "36/36 [==============================] - 8s 227ms/step - loss: 0.5799 - acc: 0.6963 - val_loss: 20.2180 - val_acc: 0.5182\n",
      "Epoch 37/125\n",
      "36/36 [==============================] - 9s 234ms/step - loss: 0.9488 - acc: 0.5702 - val_loss: 0.6703 - val_acc: 0.5401\n",
      "Epoch 38/125\n",
      "36/36 [==============================] - 8s 225ms/step - loss: 0.5689 - acc: 0.7309 - val_loss: 44.0125 - val_acc: 0.5620\n",
      "Epoch 39/125\n",
      "36/36 [==============================] - 8s 210ms/step - loss: 0.5490 - acc: 0.7425 - val_loss: 0.9016 - val_acc: 0.4526\n",
      "Epoch 40/125\n",
      "36/36 [==============================] - 8s 217ms/step - loss: 0.5386 - acc: 0.7353 - val_loss: 0.5457 - val_acc: 0.6861\n",
      "Epoch 41/125\n",
      "36/36 [==============================] - 8s 221ms/step - loss: 0.5393 - acc: 0.7673 - val_loss: 0.9218 - val_acc: 0.6934\n",
      "Epoch 42/125\n",
      "36/36 [==============================] - 8s 212ms/step - loss: 0.5374 - acc: 0.7549 - val_loss: 1.6017 - val_acc: 0.7007\n",
      "Epoch 43/125\n",
      "36/36 [==============================] - 8s 226ms/step - loss: 0.5227 - acc: 0.7549 - val_loss: 37.0515 - val_acc: 0.5182\n",
      "Epoch 44/125\n",
      "36/36 [==============================] - 8s 223ms/step - loss: 0.5200 - acc: 0.7620 - val_loss: 7.7677 - val_acc: 0.5839\n",
      "Epoch 45/125\n",
      "36/36 [==============================] - 8s 218ms/step - loss: 0.5103 - acc: 0.7460 - val_loss: 3.8005 - val_acc: 0.6131s: 0.5034 - \n",
      "Epoch 46/125\n",
      "36/36 [==============================] - 8s 239ms/step - loss: 0.5559 - acc: 0.7318 - val_loss: 168.7659 - val_acc: 0.4818\n",
      "Epoch 47/125\n",
      "36/36 [==============================] - 8s 222ms/step - loss: 0.5420 - acc: 0.7229 - val_loss: 1.2583 - val_acc: 0.5401\n",
      "Epoch 48/125\n",
      "36/36 [==============================] - 8s 218ms/step - loss: 0.5199 - acc: 0.7602 - val_loss: 0.7181 - val_acc: 0.5182\n",
      "Epoch 49/125\n",
      "36/36 [==============================] - 8s 217ms/step - loss: 0.5087 - acc: 0.7513 - val_loss: 0.6350 - val_acc: 0.5839\n",
      "Epoch 50/125\n",
      "36/36 [==============================] - 9s 235ms/step - loss: 0.4865 - acc: 0.7726 - val_loss: 31.7001 - val_acc: 0.48912s - loss: 0.5002 - a - ETA: 0s - loss: 0.4844 - acc: 0.77\n",
      "Epoch 51/125\n",
      "36/36 [==============================] - 8s 228ms/step - loss: 0.4818 - acc: 0.7780 - val_loss: 0.8184 - val_acc: 0.7737\n",
      "Epoch 52/125\n",
      "36/36 [==============================] - 8s 218ms/step - loss: 0.5258 - acc: 0.7442 - val_loss: 81.2018 - val_acc: 0.5328\n",
      "Epoch 53/125\n",
      "36/36 [==============================] - 8s 215ms/step - loss: 0.5370 - acc: 0.7513 - val_loss: 25.7629 - val_acc: 0.613132 - acc: 0\n",
      "Epoch 54/125\n",
      "36/36 [==============================] - 8s 216ms/step - loss: 0.5206 - acc: 0.7478 - val_loss: 892.8265 - val_acc: 0.5182\n",
      "Epoch 55/125\n",
      "36/36 [==============================] - 8s 216ms/step - loss: 0.5928 - acc: 0.7069 - val_loss: 33.3141 - val_acc: 0.6204\n",
      "Epoch 56/125\n",
      "36/36 [==============================] - 8s 213ms/step - loss: 0.4669 - acc: 0.7602 - val_loss: 277.3735 - val_acc: 0.5182\n",
      "Epoch 57/125\n",
      "36/36 [==============================] - 8s 220ms/step - loss: 0.5189 - acc: 0.7602 - val_loss: 2.2401 - val_acc: 0.5547\n",
      "Epoch 58/125\n",
      "36/36 [==============================] - 8s 216ms/step - loss: 0.6643 - acc: 0.7371 - val_loss: 223.2310 - val_acc: 0.4818\n",
      "Epoch 59/125\n",
      "36/36 [==============================] - 8s 214ms/step - loss: 0.5820 - acc: 0.7744 - val_loss: 21.1096 - val_acc: 0.5328\n",
      "Epoch 60/125\n"
     ]
    },
    {
     "name": "stdout",
     "output_type": "stream",
     "text": [
      "36/36 [==============================] - 8s 216ms/step - loss: 0.5050 - acc: 0.7513 - val_loss: 22.3079 - val_acc: 0.5985\n",
      "Epoch 61/125\n",
      "36/36 [==============================] - 8s 214ms/step - loss: 0.4761 - acc: 0.7709 - val_loss: 0.9493 - val_acc: 0.7299\n",
      "Epoch 62/125\n",
      "36/36 [==============================] - 8s 217ms/step - loss: 0.4980 - acc: 0.7744 - val_loss: 1.3113 - val_acc: 0.5620 - loss: 0.5111 - \n",
      "Epoch 63/125\n",
      "36/36 [==============================] - 8s 215ms/step - loss: 0.4982 - acc: 0.7904 - val_loss: 4.0084 - val_acc: 0.5766\n",
      "Epoch 64/125\n",
      "36/36 [==============================] - 8s 219ms/step - loss: 0.4496 - acc: 0.7940 - val_loss: 1.3674 - val_acc: 0.6423\n",
      "Epoch 65/125\n",
      "36/36 [==============================] - 8s 212ms/step - loss: 0.4814 - acc: 0.7602 - val_loss: 1.7576 - val_acc: 0.5401\n",
      "Epoch 66/125\n",
      "36/36 [==============================] - 8s 223ms/step - loss: 0.4646 - acc: 0.7780 - val_loss: 0.8026 - val_acc: 0.6788\n",
      "Epoch 67/125\n",
      "36/36 [==============================] - 8s 219ms/step - loss: 0.4630 - acc: 0.7795 - val_loss: 5.0567 - val_acc: 0.6058\n",
      "Epoch 68/125\n",
      "36/36 [==============================] - 8s 215ms/step - loss: 0.4488 - acc: 0.7975 - val_loss: 5.1029 - val_acc: 0.5839\n",
      "Epoch 69/125\n",
      "36/36 [==============================] - 8s 216ms/step - loss: 0.4580 - acc: 0.7993 - val_loss: 0.9358 - val_acc: 0.6131\n",
      "Epoch 70/125\n",
      "36/36 [==============================] - 8s 218ms/step - loss: 0.4559 - acc: 0.7620 - val_loss: 5.8634 - val_acc: 0.5328\n",
      "Epoch 71/125\n",
      "36/36 [==============================] - 8s 223ms/step - loss: 0.4212 - acc: 0.7975 - val_loss: 2.5228 - val_acc: 0.5620\n",
      "Epoch 72/125\n",
      "36/36 [==============================] - 8s 225ms/step - loss: 0.4741 - acc: 0.7798 - val_loss: 1.0964 - val_acc: 0.6861\n",
      "Epoch 73/125\n",
      "36/36 [==============================] - 8s 224ms/step - loss: 0.4604 - acc: 0.7899 - val_loss: 16.2546 - val_acc: 0.5547\n",
      "Epoch 74/125\n",
      "36/36 [==============================] - 8s 222ms/step - loss: 0.6711 - acc: 0.7904 - val_loss: 684.9921 - val_acc: 0.5182\n",
      "Epoch 75/125\n",
      "36/36 [==============================] - 8s 216ms/step - loss: 0.6256 - acc: 0.7229 - val_loss: 113.4725 - val_acc: 0.5036\n",
      "Epoch 76/125\n",
      "36/36 [==============================] - 8s 219ms/step - loss: 0.5328 - acc: 0.7709 - val_loss: 32.1392 - val_acc: 0.5036\n",
      "Epoch 77/125\n",
      "36/36 [==============================] - 8s 219ms/step - loss: 0.4635 - acc: 0.8064 - val_loss: 1.8592 - val_acc: 0.7007\n",
      "Epoch 78/125\n",
      "36/36 [==============================] - 8s 218ms/step - loss: 0.4452 - acc: 0.7851 - val_loss: 1.1599 - val_acc: 0.6569\n",
      "Epoch 79/125\n",
      "36/36 [==============================] - 8s 220ms/step - loss: 0.4560 - acc: 0.7726 - val_loss: 1.5188 - val_acc: 0.6204\n",
      "Epoch 80/125\n",
      "36/36 [==============================] - 8s 223ms/step - loss: 0.4415 - acc: 0.7780 - val_loss: 3.4749 - val_acc: 0.5328\n",
      "Epoch 81/125\n",
      "36/36 [==============================] - 8s 217ms/step - loss: 0.4374 - acc: 0.8117 - val_loss: 1.5407 - val_acc: 0.7153\n",
      "Epoch 82/125\n",
      "36/36 [==============================] - 8s 217ms/step - loss: 0.4542 - acc: 0.7655 - val_loss: 0.9870 - val_acc: 0.6496\n",
      "Epoch 83/125\n",
      "36/36 [==============================] - 8s 229ms/step - loss: 0.4002 - acc: 0.8099 - val_loss: 2.0243 - val_acc: 0.6204\n",
      "Epoch 84/125\n",
      "36/36 [==============================] - 8s 216ms/step - loss: 0.4236 - acc: 0.7975 - val_loss: 1.1719 - val_acc: 0.6496\n",
      "Epoch 85/125\n",
      "36/36 [==============================] - 8s 220ms/step - loss: 0.4144 - acc: 0.7993 - val_loss: 1.8183 - val_acc: 0.5912\n",
      "Epoch 86/125\n",
      "36/36 [==============================] - 8s 217ms/step - loss: 0.4055 - acc: 0.8028 - val_loss: 4.5289 - val_acc: 0.5328\n",
      "Epoch 87/125\n",
      "36/36 [==============================] - 8s 215ms/step - loss: 0.4548 - acc: 0.7691 - val_loss: 3.3393 - val_acc: 0.5474\n",
      "Epoch 88/125\n",
      "36/36 [==============================] - 8s 223ms/step - loss: 0.4576 - acc: 0.7869 - val_loss: 1.1967 - val_acc: 0.6058\n",
      "Epoch 89/125\n",
      "36/36 [==============================] - 8s 219ms/step - loss: 0.4453 - acc: 0.8135 - val_loss: 0.8551 - val_acc: 0.7007\n",
      "Epoch 90/125\n",
      "36/36 [==============================] - 8s 224ms/step - loss: 0.4217 - acc: 0.8135 - val_loss: 1.5020 - val_acc: 0.6277\n",
      "Epoch 91/125\n",
      "36/36 [==============================] - 8s 221ms/step - loss: 0.4047 - acc: 0.8028 - val_loss: 1.4386 - val_acc: 0.7664\n",
      "Epoch 92/125\n",
      "36/36 [==============================] - 8s 226ms/step - loss: 0.4033 - acc: 0.8117 - val_loss: 0.8508 - val_acc: 0.5766\n",
      "Epoch 93/125\n",
      "36/36 [==============================] - 9s 259ms/step - loss: 0.4238 - acc: 0.8064 - val_loss: 1.6491 - val_acc: 0.6131\n",
      "Epoch 94/125\n",
      "36/36 [==============================] - 10s 266ms/step - loss: 0.5423 - acc: 0.7957 - val_loss: 169.1645 - val_acc: 0.5182\n",
      "Epoch 95/125\n",
      "36/36 [==============================] - 9s 235ms/step - loss: 0.6023 - acc: 0.7691 - val_loss: 30.6348 - val_acc: 0.5109\n",
      "Epoch 96/125\n",
      "36/36 [==============================] - 9s 234ms/step - loss: 0.4577 - acc: 0.7922 - val_loss: 1.9755 - val_acc: 0.6569\n",
      "Epoch 97/125\n",
      "36/36 [==============================] - 8s 230ms/step - loss: 0.3898 - acc: 0.8259 - val_loss: 0.8942 - val_acc: 0.7518\n",
      "Epoch 98/125\n",
      "36/36 [==============================] - 8s 223ms/step - loss: 0.3913 - acc: 0.8171 - val_loss: 0.5085 - val_acc: 0.7883\n",
      "Epoch 99/125\n",
      "36/36 [==============================] - 8s 223ms/step - loss: 0.3952 - acc: 0.8171 - val_loss: 2.1483 - val_acc: 0.6569\n",
      "Epoch 100/125\n",
      "36/36 [==============================] - 8s 224ms/step - loss: 0.4022 - acc: 0.8082 - val_loss: 0.4420 - val_acc: 0.8175\n",
      "Epoch 101/125\n",
      "36/36 [==============================] - 8s 226ms/step - loss: 0.3922 - acc: 0.7993 - val_loss: 0.4985 - val_acc: 0.8540\n",
      "Epoch 102/125\n",
      "36/36 [==============================] - 8s 223ms/step - loss: 0.4015 - acc: 0.8099 - val_loss: 0.5998 - val_acc: 0.7956\n",
      "Epoch 103/125\n",
      "36/36 [==============================] - 8s 228ms/step - loss: 0.3979 - acc: 0.8117 - val_loss: 0.5254 - val_acc: 0.8029\n",
      "Epoch 104/125\n",
      "36/36 [==============================] - 8s 221ms/step - loss: 0.3885 - acc: 0.8437 - val_loss: 0.5172 - val_acc: 0.8613\n",
      "Epoch 105/125\n",
      "36/36 [==============================] - 8s 217ms/step - loss: 0.3992 - acc: 0.8188 - val_loss: 7.0404 - val_acc: 0.7372\n",
      "Epoch 106/125\n",
      "36/36 [==============================] - 9s 241ms/step - loss: 0.4089 - acc: 0.7940 - val_loss: 0.4837 - val_acc: 0.7956\n",
      "Epoch 107/125\n",
      "36/36 [==============================] - 8s 224ms/step - loss: 0.3988 - acc: 0.8099 - val_loss: 38.1416 - val_acc: 0.5547\n",
      "Epoch 108/125\n",
      "36/36 [==============================] - 8s 218ms/step - loss: 0.3780 - acc: 0.8224 - val_loss: 1.1563 - val_acc: 0.6788\n",
      "Epoch 109/125\n",
      "36/36 [==============================] - 8s 219ms/step - loss: 0.4196 - acc: 0.7904 - val_loss: 5.3982 - val_acc: 0.5766 2s - loss: 0.4253 - \n",
      "Epoch 110/125\n",
      "36/36 [==============================] - 8s 226ms/step - loss: 0.3953 - acc: 0.8153 - val_loss: 0.5133 - val_acc: 0.7445\n",
      "Epoch 111/125\n",
      "36/36 [==============================] - 8s 215ms/step - loss: 0.3706 - acc: 0.8437 - val_loss: 6.3563 - val_acc: 0.5474\n",
      "Epoch 112/125\n",
      "36/36 [==============================] - 8s 221ms/step - loss: 0.3573 - acc: 0.8455 - val_loss: 0.6765 - val_acc: 0.8467\n",
      "Epoch 113/125\n",
      "36/36 [==============================] - 8s 217ms/step - loss: 0.4126 - acc: 0.8099 - val_loss: 0.4507 - val_acc: 0.8248\n",
      "Epoch 114/125\n",
      "36/36 [==============================] - 8s 217ms/step - loss: 0.3812 - acc: 0.8188 - val_loss: 0.7901 - val_acc: 0.7372\n",
      "Epoch 115/125\n",
      "36/36 [==============================] - 8s 217ms/step - loss: 0.3583 - acc: 0.8330 - val_loss: 1.2632 - val_acc: 0.6569\n",
      "Epoch 116/125\n",
      "36/36 [==============================] - 8s 217ms/step - loss: 0.3619 - acc: 0.8437 - val_loss: 27.8740 - val_acc: 0.5328s - loss: 0.2645 - acc: 0.8 - ETA: 5s -\n",
      "Epoch 117/125\n",
      "36/36 [==============================] - 8s 217ms/step - loss: 0.3485 - acc: 0.8437 - val_loss: 1.2719 - val_acc: 0.7153\n",
      "Epoch 118/125\n",
      "36/36 [==============================] - 8s 217ms/step - loss: 0.3536 - acc: 0.8419 - val_loss: 1.0023 - val_acc: 0.8102\n",
      "Epoch 119/125\n",
      "36/36 [==============================] - 8s 223ms/step - loss: 0.3356 - acc: 0.8579 - val_loss: 1.0658 - val_acc: 0.8029loss: 0.3287 -\n",
      "Epoch 120/125\n"
     ]
    },
    {
     "name": "stdout",
     "output_type": "stream",
     "text": [
      "36/36 [==============================] - 8s 221ms/step - loss: 0.3630 - acc: 0.8419 - val_loss: 0.7074 - val_acc: 0.6788\n",
      "Epoch 121/125\n",
      "36/36 [==============================] - 8s 218ms/step - loss: 0.3724 - acc: 0.8224 - val_loss: 2.5160 - val_acc: 0.6204- acc: 0\n",
      "Epoch 122/125\n",
      "36/36 [==============================] - 8s 220ms/step - loss: 0.3474 - acc: 0.8437 - val_loss: 19.8329 - val_acc: 0.6715cc: 0\n",
      "Epoch 123/125\n",
      "36/36 [==============================] - 8s 218ms/step - loss: 0.4831 - acc: 0.7300 - val_loss: 0.9579 - val_acc: 0.5766\n",
      "Epoch 124/125\n",
      "36/36 [==============================] - 8s 222ms/step - loss: 0.3543 - acc: 0.8419 - val_loss: 22.4655 - val_acc: 0.54740.3571 - acc: 0.\n",
      "Epoch 125/125\n",
      "36/36 [==============================] - 8s 221ms/step - loss: 0.4126 - acc: 0.8242 - val_loss: 0.6110 - val_acc: 0.7956\n"
     ]
    }
   ],
   "source": [
    "model_3.compile(optimizer=Adam(learning_rate=0.00146), \n",
    "              loss='binary_crossentropy', \n",
    "              metrics=['acc'])\n",
    "callback = EarlyStopping(\n",
    "    monitor=\"val_acc\",\n",
    "    patience=100,\n",
    "    verbose=1,\n",
    "    restore_best_weights=True,\n",
    ")\n",
    "train_step_size = train_dataset.n // train_dataset.batch_size\n",
    "val_step_size = validation_dataset.n // validation_dataset.batch_size\n",
    "history_model_3 = model_3.fit(train_dataset, epochs = 125, steps_per_epoch = train_step_size, validation_steps = val_step_size ,validation_data=validation_dataset, callbacks=[callback])"
   ]
  },
  {
   "cell_type": "code",
   "execution_count": 56,
   "metadata": {},
   "outputs": [
    {
     "data": {
      "image/png": "[encoded data removed]",
      "text/plain": [
       "<Figure size 432x288 with 1 Axes>"
      ]
     },
     "metadata": {},
     "output_type": "display_data"
    }
   ],
   "source": [
    "plt.style.use(\"ggplot\")\n",
    "plt.plot(np.arange(0, 125), history_model_3.history[\"loss\"], label=\"train_loss\")\n",
    "plt.plot(np.arange(0, 125), history_model_3.history[\"val_loss\"], label=\"val_loss\")\n",
    "plt.title(\"Loss Plot\")\n",
    "plt.xlabel(\"Epoch #\")\n",
    "plt.ylabel(\"Loss\")\n",
    "plt.legend()\n",
    "plt.show()"
   ]
  },
  {
   "cell_type": "code",
   "execution_count": 57,
   "metadata": {},
   "outputs": [
    {
     "data": {
      "image/png": "[encoded data removed]",
      "text/plain": [
       "<Figure size 432x288 with 1 Axes>"
      ]
     },
     "metadata": {},
     "output_type": "display_data"
    }
   ],
   "source": [
    "plt.style.use(\"ggplot\")\n",
    "plt.plot(np.arange(0, 125), history_model_3.history[\"acc\"], label=\"train_acc\")\n",
    "plt.plot(np.arange(0, 125), history_model_3.history[\"val_acc\"], label=\"val_acc\")\n",
    "plt.title(\"Accuracy Plot\")\n",
    "plt.xlabel(\"Epoch #\")\n",
    "plt.ylabel(\"Acc\")\n",
    "plt.legend()\n",
    "plt.show()"
   ]
  },
  {
   "cell_type": "code",
   "execution_count": 58,
   "metadata": {},
   "outputs": [
    {
     "name": "stdout",
     "output_type": "stream",
     "text": [
      "37/37 [==============================] - 7s 198ms/step - loss: 0.3524 - acc: 0.8377\n",
      "\n",
      " Hasil Akurasi Train:- 0.8376511335372925  Hasil Loss Train 0.3524477779865265\n",
      "9/9 [==============================] - 0s 44ms/step - loss: 0.6110 - acc: 0.7956\n",
      "\n",
      " Hasil Akurasi Val:- 0.7956204414367676  Hasil Loss Val 0.6110283136367798\n",
      "1/1 [==============================] - 1s 938ms/step - loss: 0.6929 - acc: 0.7500\n",
      "\n",
      " Hasil Akurasi Test:- 0.75  Hasil Loss Test 0.6928976774215698\n"
     ]
    }
   ],
   "source": [
    "result_train = model_3.evaluate(train_dataset, verbose=1)\n",
    "print('\\n', 'Hasil Akurasi Train:-', result_train[1],\" Hasil Loss Train\", result_train[0])\n",
    "result_val = model_3.evaluate(validation_dataset, verbose=1)\n",
    "print('\\n', 'Hasil Akurasi Val:-', result_val[1],\" Hasil Loss Val\", result_val[0])\n",
    "result_test = model_3.evaluate(test_dataset, verbose=1)\n",
    "print('\\n', 'Hasil Akurasi Test:-', result_test[1],\" Hasil Loss Test\", result_test[0])"
   ]
  },
  {
   "cell_type": "code",
   "execution_count": 59,
   "metadata": {},
   "outputs": [
    {
     "name": "stdout",
     "output_type": "stream",
     "text": [
      "Confusion Matrix\n",
      "[[4 0]\n",
      " [4 0]]\n"
     ]
    }
   ],
   "source": [
    "y_true_test = test_dataset.classes\n",
    "y_pred = np.round(model_3.predict(test_dataset),0)\n",
    "y_pred=np.argmax(y_pred, axis=1)\n",
    "\n",
    "print('Confusion Matrix')\n",
    "print(confusion_matrix(y_true_test, y_pred))"
   ]
  },
  {
   "cell_type": "code",
   "execution_count": 60,
   "metadata": {},
   "outputs": [
    {
     "name": "stdout",
     "output_type": "stream",
     "text": [
      "Classification Report\n",
      "                precision    recall  f1-score   support\n",
      "\n",
      "acral melanoma       0.50      1.00      0.67         4\n",
      "   benign nevi       1.00      0.00      0.00         4\n",
      "\n",
      "      accuracy                           0.50         8\n",
      "     macro avg       0.75      0.50      0.33         8\n",
      "  weighted avg       0.75      0.50      0.33         8\n",
      "\n"
     ]
    }
   ],
   "source": [
    "print('Classification Report')\n",
    "\n",
    "target_names = ['acral melanoma', 'benign nevi']\n",
    "print(classification_report(y_true_test, y_pred, target_names=target_names, zero_division=1))"
   ]
  },
  {
   "cell_type": "code",
   "execution_count": 62,
   "metadata": {},
   "outputs": [],
   "source": [
    "model_3.save('model-preprocess-3.h5')"
   ]
  },
  {
   "cell_type": "code",
   "execution_count": null,
   "metadata": {},
   "outputs": [],
   "source": []
  }
 ],
 "metadata": {
  "colab": {
   "collapsed_sections": [],
   "name": "Load_data.ipynb",
   "provenance": []
  },
  "kernelspec": {
   "display_name": "tf2.6",
   "language": "python",
   "name": "tf2.6"
  },
  "language_info": {
   "codemirror_mode": {
    "name": "ipython",
    "version": 3
   },
   "file_extension": ".py",
   "mimetype": "text/x-python",
   "name": "python",
   "nbconvert_exporter": "python",
   "pygments_lexer": "ipython3",
   "version": "3.9.0"
  }
 },
 "nbformat": 4,
 "nbformat_minor": 1
}
